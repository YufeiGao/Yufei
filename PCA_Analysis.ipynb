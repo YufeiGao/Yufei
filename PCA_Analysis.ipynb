{
 "cells": [
  {
   "cell_type": "code",
   "execution_count": 181,
   "metadata": {
    "collapsed": false
   },
   "outputs": [
    {
     "data": {
      "text/plain": [
       "'\\n@ Questions for Professor Peng:\\n1. When you do machine learning, how do you deal with \"Date\"?\\n    - For date with \"Start\" and \"End\", we should calculate the time span.\\n2. When you do normalization, do you also normalize categorical data?\\n'"
      ]
     },
     "execution_count": 181,
     "metadata": {},
     "output_type": "execute_result"
    }
   ],
   "source": [
    "\"\"\"\n",
    "@Project: Connexin Group \n",
    "\n",
    "@FileName: pca for dimension reduction\n",
    "\n",
    "@Author：Zhejian Peng\n",
    "\n",
    "@Create date: Feb. 8th, 2018\n",
    "\n",
    "@description：reduce dimension of our dataset using pca\n",
    "\n",
    "@Update date：  \n",
    "\n",
    "@Vindicator：  \n",
    "\n",
    "\"\"\"  \n",
    "\n",
    "'''\n",
    "@ Questions for Professor Peng:\n",
    "1. When you do machine learning, how do you deal with \"Date\"?\n",
    "    - For date with \"Start\" and \"End\", we should calculate the time span.\n",
    "2. When you do normalization, do you also normalize categorical data?\n",
    "'''\n",
    "    "
   ]
  },
  {
   "cell_type": "code",
   "execution_count": 182,
   "metadata": {
    "collapsed": true
   },
   "outputs": [],
   "source": [
    "import pandas as pd \n",
    "import numpy as np\n",
    "import matplotlib.pyplot as plt\n",
    "from sklearn.decomposition import PCA\n",
    "from sklearn.preprocessing import StandardScaler\n",
    "%matplotlib inline"
   ]
  },
  {
   "cell_type": "markdown",
   "metadata": {},
   "source": [
    "# Load Dataset"
   ]
  },
  {
   "cell_type": "code",
   "execution_count": 183,
   "metadata": {
    "collapsed": true
   },
   "outputs": [],
   "source": [
    "def readcsv():\n",
    "    LARGE_FILE = \"../loan_data_current_converted_with2017Q4.csv\"\n",
    "    CHUNKSIZE = 100000 # processing 100,000 rows at a time\n",
    "    # Add encoding encoding = \"ISO-8859-1\", why?\n",
    "    reader = pd.read_csv(LARGE_FILE, chunksize=CHUNKSIZE, low_memory=False, encoding = \"ISO-8859-1\")\n",
    "    frames = []\n",
    "    for df in reader:\n",
    "        frames.append(df)\n",
    "    loan_data = pd.concat(frames)\n",
    "    return loan_data    "
   ]
  },
  {
   "cell_type": "code",
   "execution_count": 184,
   "metadata": {
    "collapsed": true
   },
   "outputs": [],
   "source": [
    "df = readcsv()"
   ]
  },
  {
   "cell_type": "code",
   "execution_count": 185,
   "metadata": {
    "collapsed": false
   },
   "outputs": [
    {
     "data": {
      "text/plain": [
       "'\\nCorrect way to normalized data. Train vs. Test\\nurl = https://stats.stackexchange.com/questions/174823/how-to-apply-standardization-normalization-to-train-and-testset-if-prediction-i\\n(trainData - mean(trainData)) / sd(trainData)\\n\\n(testData - mean(trainData)) / sd(trainData)\\n'"
      ]
     },
     "execution_count": 185,
     "metadata": {},
     "output_type": "execute_result"
    }
   ],
   "source": [
    "'''\n",
    "Correct way to normalized data. Train vs. Test\n",
    "url = https://stats.stackexchange.com/questions/174823/how-to-apply-standardization-normalization-to-train-and-testset-if-prediction-i\n",
    "(trainData - mean(trainData)) / sd(trainData)\n",
    "\n",
    "(testData - mean(trainData)) / sd(trainData)\n",
    "'''"
   ]
  },
  {
   "cell_type": "code",
   "execution_count": 186,
   "metadata": {
    "collapsed": true
   },
   "outputs": [],
   "source": [
    "# Question: Should we normalized categorical variables?"
   ]
  },
  {
   "cell_type": "markdown",
   "metadata": {},
   "source": [
    "# Normalize Variables\n",
    "    1. Drop nan columns. Info. comes from /Amy's folder/data_meaning.xlsx\n",
    "    2. Select Features: X; and Target: Y\n",
    "    3. Choice the number of K, number of principal components K:\n",
    " \n",
    "    https://www.youtube.com/watch?v=5aHWplWElcc&index=85&list=PLLssT5z_DsK-h9vYZkQkYNWcItqhlRJLN\n",
    "    "
   ]
  },
  {
   "cell_type": "code",
   "execution_count": 214,
   "metadata": {
    "collapsed": true
   },
   "outputs": [],
   "source": [
    "#1. Drop nan columns. Info. comes from /Amy's folder/data_meaning.xlsx\n",
    "# I disaggred on \"funded_amount\", those two are actually different\n",
    "drop_col = [\"id\", \"member_id\", \"url\", \"grade\", \"sub_grade\", \"addr_state\", \"funded_amnt_inv\", \"title\", \n",
    "            \"collection_recovery_fee\", \"collections_12_mths_ex_med\", \"next_pymnt_d\", \"recoveries\", \"total_pymnt\",  \n",
    "            \"total_pymnt_inv\", \"total_rec_int\", \"desc\"]\n",
    "drop_col2= [\"int_rate\", \"emp_title\", \"issue_d\",\"earliest_cr_line\", \"last_pymnt_d\", \n",
    "            \"next_pymnt_d\", \"last_credit_pull_d\", \"sec_app_earliest_cr_line \", \"debt_settlement_flag_date\",\n",
    "            \"hardship_start_date\", \"payment_plan_start_date\", \"hardship_end_date\", \"settlement_date\", \"zip_code\"\n",
    "            \"revol_util\", \"verification_status_joint\" \"sec_app_earliest_cr_line\"]"
   ]
  },
  {
   "cell_type": "code",
   "execution_count": 215,
   "metadata": {
    "collapsed": true
   },
   "outputs": [],
   "source": [
    "#drop the observation that was missing for any field\n",
    "df.dropna(axis=0,how='all', inplace=True)\n",
    "df.dropna(inplace=True,axis=1,how='all')"
   ]
  },
  {
   "cell_type": "code",
   "execution_count": 216,
   "metadata": {
    "collapsed": true
   },
   "outputs": [],
   "source": [
    "df.drop(drop_col, inplace=True, axis=1, errors='ignore')\n",
    "df.drop(drop_col2, inplace=True, axis=1, errors='ignore')\n"
   ]
  },
  {
   "cell_type": "code",
   "execution_count": null,
   "metadata": {
    "collapsed": true
   },
   "outputs": [],
   "source": [
    "df.drop(\"zip_code\", inplace=True, axis=1)"
   ]
  },
  {
   "cell_type": "code",
   "execution_count": 196,
   "metadata": {
    "collapsed": true
   },
   "outputs": [],
   "source": [
    "df.drop(\"revol_util\",inplace=True, axis=1)"
   ]
  },
  {
   "cell_type": "code",
   "execution_count": 218,
   "metadata": {
    "collapsed": true
   },
   "outputs": [],
   "source": [
    "df.drop(\"sec_app_earliest_cr_line\",inplace=True, axis=1)"
   ]
  },
  {
   "cell_type": "code",
   "execution_count": 221,
   "metadata": {
    "collapsed": true
   },
   "outputs": [],
   "source": [
    "df.fillna(0, inplace=True)"
   ]
  },
  {
   "cell_type": "code",
   "execution_count": 222,
   "metadata": {
    "collapsed": true
   },
   "outputs": [],
   "source": [
    "# 2. Select Features: X; and Target: Y\n",
    "Y = df.loc[:,['loan_status']].values\n",
    "features= list(df.columns)\n",
    "features.remove(\"loan_status\")\n",
    "X = df.loc[:,features].values\n"
   ]
  },
  {
   "cell_type": "code",
   "execution_count": 223,
   "metadata": {
    "collapsed": true
   },
   "outputs": [],
   "source": [
    "# Normalize X\n",
    "X = StandardScaler().fit_transform(X)\n"
   ]
  },
  {
   "cell_type": "markdown",
   "metadata": {},
   "source": [
    "# PCA\n",
    "   - My first attempt with K = 30 yield 0.761394, which is not a very good result.\n",
    "   - When K goes up to 70 The result seems promising.\n"
   ]
  },
  {
   "cell_type": "code",
   "execution_count": 235,
   "metadata": {
    "collapsed": true
   },
   "outputs": [],
   "source": [
    "def pca_k(k):\n",
    "    '''\n",
    "    @ Function: Print the percentage variance retained by fisrt K components\n",
    "    @ Parameters: \n",
    "                k -- the number of principal components\n",
    "    @ Return: Void\n",
    "    '''\n",
    "    pca = PCA(n_components=k)\n",
    "    principalComponents = pca.fit_transform(X)\n",
    "    #principalDf = pd.DataFrame(data = principalComponents)\n",
    "    pca.explained_variance_ratio_\n",
    "    print(\"The percentage of Variance retained by K = \",k, \" : \", sum(pca.explained_variance_ratio_))"
   ]
  },
  {
   "cell_type": "code",
   "execution_count": 241,
   "metadata": {
    "collapsed": false
   },
   "outputs": [
    {
     "name": "stdout",
     "output_type": "stream",
     "text": [
      "The percentage of Variance retained by K =  30  :  0.761407465408\n"
     ]
    }
   ],
   "source": [
    "pca_k(30)"
   ]
  },
  {
   "cell_type": "code",
   "execution_count": 242,
   "metadata": {
    "collapsed": false
   },
   "outputs": [
    {
     "name": "stdout",
     "output_type": "stream",
     "text": [
      "The percentage of Variance retained by K =  40  :  0.8371853523\n"
     ]
    }
   ],
   "source": [
    "pca_k(40)"
   ]
  },
  {
   "cell_type": "code",
   "execution_count": 243,
   "metadata": {
    "collapsed": false
   },
   "outputs": [
    {
     "name": "stdout",
     "output_type": "stream",
     "text": [
      "The percentage of Variance retained by K =  50  :  0.894559622941\n"
     ]
    }
   ],
   "source": [
    "pca_k(50)"
   ]
  },
  {
   "cell_type": "code",
   "execution_count": 238,
   "metadata": {
    "collapsed": false
   },
   "outputs": [
    {
     "name": "stdout",
     "output_type": "stream",
     "text": [
      "The percentage of Variance retained by K =  60  :  0.936803380943\n"
     ]
    }
   ],
   "source": [
    "pca_k(60)"
   ]
  },
  {
   "cell_type": "code",
   "execution_count": 244,
   "metadata": {
    "collapsed": false
   },
   "outputs": [
    {
     "name": "stdout",
     "output_type": "stream",
     "text": [
      "The percentage of Variance retained by K =  70  :  0.964525576084\n"
     ]
    }
   ],
   "source": [
    "pca_k(70)"
   ]
  },
  {
   "cell_type": "code",
   "execution_count": 245,
   "metadata": {
    "collapsed": false
   },
   "outputs": [
    {
     "name": "stdout",
     "output_type": "stream",
     "text": [
      "The percentage of Variance retained by K =  80  :  0.983301266634\n"
     ]
    }
   ],
   "source": [
    "pca_k(80)"
   ]
  },
  {
   "cell_type": "code",
   "execution_count": null,
   "metadata": {
    "collapsed": true
   },
   "outputs": [],
   "source": []
  },
  {
   "cell_type": "markdown",
   "metadata": {},
   "source": [
    "# Lets try the thing again without Normalize Categorical Data"
   ]
  },
  {
   "cell_type": "code",
   "execution_count": null,
   "metadata": {
    "collapsed": true
   },
   "outputs": [],
   "source": []
  }
 ],
 "metadata": {
  "kernelspec": {
   "display_name": "Python 2",
   "language": "python",
   "name": "python2"
  },
  "language_info": {
   "codemirror_mode": {
    "name": "ipython",
    "version": 2
   },
   "file_extension": ".py",
   "mimetype": "text/x-python",
   "name": "python",
   "nbconvert_exporter": "python",
   "pygments_lexer": "ipython2",
   "version": "2.7.13"
  }
 },
 "nbformat": 4,
 "nbformat_minor": 2
}
