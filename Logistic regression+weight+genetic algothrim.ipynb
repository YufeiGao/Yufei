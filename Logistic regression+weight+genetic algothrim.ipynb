{
 "cells": [
  {
   "cell_type": "code",
   "execution_count": 1,
   "metadata": {
    "collapsed": true
   },
   "outputs": [],
   "source": [
    "import os\n",
    "import pandas as pd\n",
    "import numpy as np\n",
    "import seaborn as sns\n",
    "from sklearn import metrics\n",
    "from sklearn.model_selection import train_test_split , cross_val_score\n",
    "from sklearn.linear_model import LogisticRegression\n",
    "from sklearn.preprocessing import StandardScaler\n",
    "import multiprocessing\n",
    "import matplotlib.pyplot as plt"
   ]
  },
  {
   "cell_type": "markdown",
   "metadata": {},
   "source": [
    "data process(Binary)"
   ]
  },
  {
   "cell_type": "code",
   "execution_count": 2,
   "metadata": {
    "collapsed": true
   },
   "outputs": [],
   "source": [
    "class data_proc():\n",
    "    \n",
    "    def process_zip():\n",
    "        #dealing with zipcode\n",
    "        zip_data=pd.read_csv('ZIP.csv')\n",
    "        zip_data['Zip']=zip_data['Zip'].astype(str)\n",
    "        for i in range(len(zip_data['Zip'])):\n",
    "            if len(zip_data['Zip'][i])==4:\n",
    "                zip_data['Zip'][i]='0'+zip_data['Zip'][i]\n",
    "        zip_data['Zip']=[zip_data['Zip'][i][0:3] for i in range(len(zip_data))] \n",
    "        zip_data.iloc[:,-3:]=zip_data[['Median','Mean','Pop']].apply(lambda x: x.str.replace(',',''))\n",
    "        for i in range(1,4):\n",
    "            zip_data.iloc[:,-i]=pd.to_numeric(zip_data.iloc[:,-i],errors='coerce')\n",
    "        zip_data['weight']=zip_data['Pop']/zip_data.groupby('Zip')['Pop'].transform(sum)\n",
    "        zip_data['new_mean']=zip_data['Mean']*zip_data['weight']\n",
    "        zip_data['new_median']=zip_data['Median']*zip_data['weight']\n",
    "        zip_new=pd.DataFrame()\n",
    "        zip_new=zip_data.groupby('Zip')['new_mean','new_median'].sum()\n",
    "        return zip_new\n",
    "        \n",
    "    def readcsv():\n",
    "        LARGE_FILE = \"loan_data_no_current_converted.csv\"\n",
    "        CHUNKSIZE = 100000 # processing 100,000 rows at a time\n",
    "        reader = pd.read_csv(LARGE_FILE, chunksize=CHUNKSIZE, low_memory=False)\n",
    "        frames = []\n",
    "        for df in reader:\n",
    "            frames.append(df)\n",
    "        loan_data = pd.concat(frames)\n",
    "        return loan_data   \n",
    "    def cleaning(df,zip_new,keep_desc=True,categorical_to_binary=True):\n",
    "        df=df.dropna(axis=0,how='all')\n",
    "        drop_list=['installment','term','emp_title','title','earliest_cr_line','desc','issue_d','id','member_id','url','grade','sub_grade',\n",
    "                   'int_rate','avg_cur_bal','addr_state','funded_amnt','funded_amnt_inv','collection_recovery_fee',\n",
    "                   'collections_12_mths_ex_med','mths_since_last_major_derog','next_pymnt_d','recoveries','total_pymnt',\n",
    "                   'total_pymnt_inv','total_rec_int','issue_d',' last_credit_pull_d','last_pymnt_d','last_credit_pull_d',\n",
    "                  'total_rec_prncp','settlement_status','hardship_loan_status','hardship_status','debt_settlement_flag',\n",
    "                   'verification_status','total_rec_late_fee']\n",
    "        df.drop(drop_list,inplace=True,axis=1,errors='ignore')\n",
    "        #deal with percentage mark\n",
    "        df['revol_util']=df['revol_util'].replace('%','',regex=True).astype('float')/100\n",
    "        #merge zipcode with census data\n",
    "        df['zip_code']=df['zip_code'].apply(lambda x: x[:3])\n",
    "        df=df.join(zip_new,on='zip_code')\n",
    "        df.drop('zip_code',inplace=True,axis=1)\n",
    "        #drop the observation that was missing for ALL field\n",
    "        df=df.dropna(axis=0,how='all')\n",
    "        #drop the features for which greater than 10% of the loans were missing data for\n",
    "        num_rows=df.count(axis=0)\n",
    "        df=df.iloc[:,(num_rows>=0.9*len(df)).tolist()]\n",
    "        #drop the observation that was missing for any field\n",
    "        df=df.dropna(axis=0,how='any')\n",
    "        #label the dataset to create y\n",
    "        #0:fully paid, does not meet policy:fully paid\n",
    "        #1:Does not meet the credit policy. Status:Charged Off\",default,charge of\n",
    "        df=df[(True-df['loan_status'].isin([4]))] \n",
    "        df=df[(True-df['loan_status'].isin([5]))]\n",
    "        df=df[(True-df['loan_status'].isin([6]))] \n",
    "        #label the dataset to create y\n",
    "        y=df['loan_status'].replace(1,0)\n",
    "        y=y.replace(2,0)\n",
    "        y=y.replace(3,1)\n",
    "        y=y.replace(7,1)\n",
    "        y=y.replace(8,1)\n",
    "        df=df.drop(['loan_status'],axis=1) \n",
    "        return df,y"
   ]
  },
  {
   "cell_type": "markdown",
   "metadata": {},
   "source": [
    "Run data_proc class to get Binary dataset"
   ]
  },
  {
   "cell_type": "code",
   "execution_count": 3,
   "metadata": {},
   "outputs": [
    {
     "name": "stderr",
     "output_type": "stream",
     "text": [
      "C:\\Users\\Xianzhe Xu\\AppData\\Local\\Continuum\\anaconda3\\lib\\site-packages\\pandas\\core\\computation\\expressions.py:183: UserWarning: evaluating in Python space because the '-' operator is not supported by numexpr for the bool dtype, use '^' instead\n",
      "  unsupported[op_str]))\n"
     ]
    }
   ],
   "source": [
    "zipdata = data_proc.process_zip()\n",
    "df = data_proc.readcsv()\n",
    "x,y = data_proc.cleaning(df,zipdata,keep_desc=False,categorical_to_binary=True)"
   ]
  },
  {
   "cell_type": "markdown",
   "metadata": {},
   "source": [
    "Binary Logistic Regression(Ridge) "
   ]
  },
  {
   "cell_type": "code",
   "execution_count": 4,
   "metadata": {
    "collapsed": true
   },
   "outputs": [],
   "source": [
    "#%% Binary logistic regression\n",
    "class log_reg():\n",
    "    # Evaluate the model by splitting into train and test sets\n",
    "    def split(x,y,rand=0):\n",
    "        \n",
    "        y = np.ravel(y)\n",
    "        x_train, x_test, y_train, y_test = train_test_split(x,y, test_size=0.25,random_state=rand)\n",
    "        \n",
    "        return x_train, x_test, y_train, y_test \n",
    "    #we need to add validation dataset here\n",
    "    \n",
    "    # Find binary column method one\n",
    "    def bool_cols(df,isbool=True):\n",
    "        bool_cols=[]\n",
    "        for col in df:\n",
    "            if isbool==True:\n",
    "                if df[col].dropna().value_counts().index.isin([0,1]).all():\n",
    "                    bool_cols.append(col)\n",
    "            else:\n",
    "                if not df[col].dropna().value_counts().index.isin([0,1]).all():\n",
    "                    bool_cols.append(col)\n",
    "        return bool_cols\n",
    "    # this above step is to facilitate normalization later\n",
    "    # method two\n",
    "    def not_bi(x):\n",
    "        not_bi=[]\n",
    "        for i in list(x):\n",
    "            u=x[i].unique()\n",
    "            if not (0 in u and 1 in u and len(u)==2): #if not binary\n",
    "                not_bi.append(i)\n",
    "        return not_bi\n",
    "    \n",
    "    def reg(x_train, y_train):\n",
    "           \n",
    "        model = LogisticRegression(penalty='l2',class_weight='balanced',solver='sag',n_jobs=-1)\n",
    "        \n",
    "        \"\"\"\n",
    "        Why we need standardize?\n",
    "        \n",
    "        Note that ‘sag’ and ‘saga’ fast convergence is only guaranteed on features \n",
    "        with approximately the same scale. You can preprocess the data with \n",
    "        a scaler from sklearn.preprocessing.\n",
    "        \"\"\"\n",
    "        \n",
    "        model = model.fit(x_train, y_train)\n",
    "        \n",
    "        return model\n",
    "    \n",
    "    def ModelValuation(x_test,y_test,model):\n",
    "        \n",
    "        probs = model.predict_proba(x_test)\n",
    "        fpr, tpr, thresholds = metrics.roc_curve(y_test, probs[:, 1])\n",
    "        \n",
    "        plt.figure(1)\n",
    "        plt.plot(fpr, tpr, label='LogisticRegression')\n",
    "        plt.xlabel('False positive rate')\n",
    "        plt.ylabel('True positive rate')\n",
    "        plt.title('ROC curve')\n",
    "        plt.legend(loc='best')\n",
    "        plt.show()\n",
    "        \n",
    "        print(\"Area Under the Curve (AUC) from prediction score is %f\" % metrics.roc_auc_score(y_test, probs[:, 1]))\n",
    "    \n",
    "        return None  \n",
    "    \n",
    "    def y_pred(x_test,threshold=0.5):\n",
    "        \n",
    "        if threshold == 0.5:\n",
    "            y_predicted = model.predict(x_test)\n",
    "        else:\n",
    "            probs = model.predict_proba(x_test)\n",
    "            y_predicted = np.array(probs[:,1] >= threshold).astype(int)\n",
    "        \n",
    "        return y_predicted    \n",
    "    \n",
    "    def GetScores(y_test,y_predicted):\n",
    "        #G means score \n",
    "        CM = metrics.confusion_matrix(y_test, y_predicted)\n",
    "        TN = CM[0,0]\n",
    "        FN = CM[1,0]\n",
    "        TP = CM[1,1]\n",
    "        FP = CM[0,1]\n",
    "        \n",
    "        sensitivity = float(TP)/float(TP+FN)\n",
    "        specificity = float(TN)/float(TN+FP)\n",
    "        G = np.sqrt(sensitivity*specificity)\n",
    "        print(\"G score is %f\" % G)\n",
    "        print(\"Specificity is %f\" % specificity)\n",
    "        \n",
    "        # Generate and display different evaluation metrics\n",
    "        print(\"Mean accuracy score is %f\" % metrics.accuracy_score(y_test, y_predicted))\n",
    "          \n",
    "        print(\"Confusion Marix\")\n",
    "        print(CM)\n",
    "        \n",
    "        return specificity , G\n",
    "        \n",
    "    # Convenience function to plot confusion matrix\n",
    "    def confusion(y_test,y_predicted,title):\n",
    "        \n",
    "        # Define names for the three Iris types\n",
    "        names = ['Default', 'Not Default']\n",
    "    \n",
    "        # Make a 2D histogram from the test and result arrays\n",
    "        pts, xe, ye = np.histogram2d(y_test, y_predicted, bins=2)\n",
    "    \n",
    "        # For simplicity we create a new DataFrame\n",
    "        pd_pts = pd.DataFrame(pts.astype(int), index=names, columns=names )\n",
    "        \n",
    "        # Display heatmap and add decorations\n",
    "        hm = sns.heatmap(pd_pts, annot=True, fmt=\"d\")\n",
    "        hm.axes.set_title(title)\n",
    "        \n",
    "        return None\n",
    "            \n",
    "    def find_threshold(x_test,y_test):\n",
    "    \n",
    "        probs = model.predict_proba(x_test)\n",
    "        fpr, tpr, thresholds = metrics.roc_curve(y_test, probs[:, 1])\n",
    "        \n",
    "        sensitivity = tpr\n",
    "        specificity = 1 - fpr\n",
    "        G = np.sqrt(sensitivity*specificity)\n",
    "        \n",
    "        plt.figure(2)\n",
    "        plt.plot(thresholds,G)\n",
    "        plt.xlabel('Thresholds')\n",
    "        plt.ylabel('G-Scores')\n",
    "        plt.title('G-Scores with different thresholds')\n",
    "        plt.show()\n",
    "        \n",
    "        \n",
    "        print(\"The highest G score is %f with threshold at %f\" % (np.amax(G),thresholds[np.argmax(G)]) )\n",
    "        \n",
    "        return thresholds[np.argmax(G)]\n",
    "    # this is just testing, we add weight so we don't need to adjust threshold"
   ]
  },
  {
   "cell_type": "markdown",
   "metadata": {},
   "source": [
    "Run Binary logistic Regression(Ridge)"
   ]
  },
  {
   "cell_type": "code",
   "execution_count": 5,
   "metadata": {},
   "outputs": [
    {
     "name": "stderr",
     "output_type": "stream",
     "text": [
      "C:\\Users\\Xianzhe Xu\\AppData\\Local\\Continuum\\anaconda3\\lib\\site-packages\\ipykernel_launcher.py:11: SettingWithCopyWarning: \n",
      "A value is trying to be set on a copy of a slice from a DataFrame.\n",
      "Try using .loc[row_indexer,col_indexer] = value instead\n",
      "\n",
      "See the caveats in the documentation: http://pandas.pydata.org/pandas-docs/stable/indexing.html#indexing-view-versus-copy\n",
      "  # This is added back by InteractiveShellApp.init_path()\n",
      "C:\\Users\\Xianzhe Xu\\AppData\\Local\\Continuum\\anaconda3\\lib\\site-packages\\pandas\\core\\indexing.py:517: SettingWithCopyWarning: \n",
      "A value is trying to be set on a copy of a slice from a DataFrame.\n",
      "Try using .loc[row_indexer,col_indexer] = value instead\n",
      "\n",
      "See the caveats in the documentation: http://pandas.pydata.org/pandas-docs/stable/indexing.html#indexing-view-versus-copy\n",
      "  self.obj[item] = s\n",
      "C:\\Users\\Xianzhe Xu\\AppData\\Local\\Continuum\\anaconda3\\lib\\site-packages\\ipykernel_launcher.py:12: SettingWithCopyWarning: \n",
      "A value is trying to be set on a copy of a slice from a DataFrame.\n",
      "Try using .loc[row_indexer,col_indexer] = value instead\n",
      "\n",
      "See the caveats in the documentation: http://pandas.pydata.org/pandas-docs/stable/indexing.html#indexing-view-versus-copy\n",
      "  if sys.path[0] == '':\n",
      "C:\\Users\\Xianzhe Xu\\AppData\\Local\\Continuum\\anaconda3\\lib\\site-packages\\sklearn\\linear_model\\sag.py:326: ConvergenceWarning: The max_iter was reached which means the coef_ did not converge\n",
      "  \"the coef_ did not converge\", ConvergenceWarning)\n"
     ]
    },
    {
     "data": {
      "image/png": "[encoded data removed]",
      "text/plain": [
       "<matplotlib.figure.Figure at 0x2bf2a76e898>"
      ]
     },
     "metadata": {},
     "output_type": "display_data"
    },
    {
     "name": "stdout",
     "output_type": "stream",
     "text": [
      "Area Under the Curve (AUC) from prediction score is 0.931268\n",
      "G score is 0.868532\n",
      "Specificity is 0.781124\n",
      "Mean accuracy score is 0.820295\n",
      "Confusion Marix\n",
      "[[118780  33283]\n",
      " [  1404  39555]]\n"
     ]
    }
   ],
   "source": [
    "# Split\n",
    "x_train, x_test, y_train, y_test = log_reg.split(x,y,rand=None)\n",
    "# Normalize\n",
    "not_bi = log_reg.not_bi(x)\n",
    "scaler = StandardScaler()\n",
    "scaler.fit(x_train[not_bi]) \n",
    "\n",
    "x_train_scaled=x_train\n",
    "x_test_scaled=x_test\n",
    "\n",
    "x_train_scaled[not_bi] = scaler.transform(x_train[not_bi])\n",
    "x_test_scaled[not_bi]  = scaler.transform(x_test[not_bi])\n",
    "\n",
    "# Fit model\n",
    "model = log_reg.reg(x_train_scaled,y_train)\n",
    "# Evaluate model\n",
    "log_reg.ModelValuation(x_test_scaled,y_test,model)\n",
    "y_predicted = log_reg.y_pred(x_test_scaled,threshold=0.5)\n",
    "spec , G = log_reg.GetScores(y_test,y_predicted)\n",
    "log_reg.confusion(y_test,y_predicted,'Default Confusion Matrix')"
   ]
  },
  {
   "cell_type": "markdown",
   "metadata": {},
   "source": [
    "Check the mean accuracy score for every class"
   ]
  },
  {
   "cell_type": "code",
   "execution_count": 6,
   "metadata": {},
   "outputs": [
    {
     "name": "stdout",
     "output_type": "stream",
     "text": [
      "mean accuracy for fully paid 0.7811236132392495\n",
      "mean accuracy for Default 0.965721819380356\n"
     ]
    }
   ],
   "source": [
    "y_predicted = model.predict(x_test)\n",
    "cnt_0=0\n",
    "cnt_0_predicted=0\n",
    "cnt_1=0\n",
    "cnt_1_predicted=0\n",
    "for x in range(len(y_predicted)):\n",
    "    if y_test[x]==0:\n",
    "        cnt_0+=1\n",
    "    if y_test[x]==0 and y_predicted[x]==0:\n",
    "        cnt_0_predicted+=1 \n",
    "    if y_test[x]==1:\n",
    "        cnt_1+=1\n",
    "    if y_test[x]==1 and y_predicted[x]==1:\n",
    "        cnt_1_predicted+=1 \n",
    "print(\"mean accuracy for fully paid\", cnt_0_predicted/cnt_0)\n",
    "print(\"mean accuracy for Default\", cnt_1_predicted/cnt_1)"
   ]
  },
  {
   "cell_type": "code",
   "execution_count": 23,
   "metadata": {},
   "outputs": [
    {
     "data": {
      "text/plain": [
       "['loan_amnt',\n",
       " 'emp_length',\n",
       " 'home_ownership',\n",
       " 'annual_inc',\n",
       " 'pymnt_plan',\n",
       " 'purpose',\n",
       " 'dti',\n",
       " 'delinq_2yrs',\n",
       " 'inq_last_6mths',\n",
       " 'open_acc',\n",
       " 'pub_rec',\n",
       " 'revol_bal',\n",
       " 'revol_util',\n",
       " 'total_acc',\n",
       " 'initial_list_status',\n",
       " 'out_prncp',\n",
       " 'out_prncp_inv',\n",
       " 'last_pymnt_amnt',\n",
       " 'policy_code',\n",
       " 'application_type',\n",
       " 'acc_now_delinq',\n",
       " 'tot_coll_amt',\n",
       " 'tot_cur_bal',\n",
       " 'total_rev_hi_lim',\n",
       " 'acc_open_past_24mths',\n",
       " 'bc_open_to_buy',\n",
       " 'bc_util',\n",
       " 'chargeoff_within_12_mths',\n",
       " 'delinq_amnt',\n",
       " 'mo_sin_old_rev_tl_op',\n",
       " 'mo_sin_rcnt_rev_tl_op',\n",
       " 'mo_sin_rcnt_tl',\n",
       " 'mort_acc',\n",
       " 'mths_since_recent_bc',\n",
       " 'num_accts_ever_120_pd',\n",
       " 'num_actv_bc_tl',\n",
       " 'num_actv_rev_tl',\n",
       " 'num_bc_sats',\n",
       " 'num_bc_tl',\n",
       " 'num_il_tl',\n",
       " 'num_op_rev_tl',\n",
       " 'num_rev_accts',\n",
       " 'num_rev_tl_bal_gt_0',\n",
       " 'num_sats',\n",
       " 'num_tl_30dpd',\n",
       " 'num_tl_90g_dpd_24m',\n",
       " 'num_tl_op_past_12m',\n",
       " 'pct_tl_nvr_dlq',\n",
       " 'percent_bc_gt_75',\n",
       " 'pub_rec_bankruptcies',\n",
       " 'tax_liens',\n",
       " 'tot_hi_cred_lim',\n",
       " 'total_bal_ex_mort',\n",
       " 'total_bc_limit',\n",
       " 'total_il_high_credit_limit',\n",
       " 'hardship_flag',\n",
       " 'hardship_type',\n",
       " 'hardship_reason',\n",
       " 'disbursement_method',\n",
       " 'new_mean',\n",
       " 'new_median']"
      ]
     },
     "execution_count": 23,
     "metadata": {},
     "output_type": "execute_result"
    }
   ],
   "source": [
    "features=[]\n",
    "for key, value in x_train_scaled.iteritems():\n",
    "    features.append(key)\n",
    "features\n"
   ]
  },
  {
   "cell_type": "code",
   "execution_count": 43,
   "metadata": {
    "collapsed": true
   },
   "outputs": [],
   "source": [
    "coefficient=[]\n",
    "feature_coef=model.coef_\n",
    "for x in feature_coef:\n",
    "    for y in x:\n",
    "        coefficient.append(y)\n",
    "weight=zip(features,coefficient)\n",
    "\n"
   ]
  },
  {
   "cell_type": "code",
   "execution_count": 46,
   "metadata": {},
   "outputs": [
    {
     "name": "stdout",
     "output_type": "stream",
     "text": [
      "[('loan_amnt', 0.95128207471162107), ('total_bal_ex_mort', 0.31977614766316848), ('dti', 0.30717652410352736), ('acc_open_past_24mths', 0.29148903268001325), ('initial_list_status', 0.18680750146172492), ('percent_bc_gt_75', 0.17789617533049809), ('num_bc_sats', 0.14808388800458697), ('num_tl_op_past_12m', 0.13656290472004876), ('delinq_2yrs', 0.11828028469510475), ('purpose', 0.11608631189702585), ('hardship_reason', 0.085809991017707532), ('out_prncp_inv', 0.084186082907108634), ('out_prncp', 0.084170587716691322), ('inq_last_6mths', 0.081806312064737235), ('pub_rec', 0.073011994469276267), ('new_median', 0.061688258054992444), ('num_accts_ever_120_pd', 0.057616095514475996), ('revol_util', 0.056659509355668151), ('tot_cur_bal', 0.054363828404613027), ('disbursement_method', 0.036536101520646382), ('application_type', 0.026227242926594539), ('num_rev_tl_bal_gt_0', 0.024169700076661131), ('acc_now_delinq', 0.022626302516030965), ('pub_rec_bankruptcies', 0.01936261552115531), ('mo_sin_rcnt_rev_tl_op', 0.016664806380642522), ('chargeoff_within_12_mths', 0.012992686226693332), ('num_op_rev_tl', 0.011716103250291881), ('hardship_type', 0.0093958546417571877), ('delinq_amnt', 0.0087686316186182476), ('num_rev_accts', 0.007718141022277792), ('pct_tl_nvr_dlq', 0.0026300321553876316), ('num_tl_30dpd', 0.001883070311929421), ('hardship_flag', 0.0), ('policy_code', 0.0), ('pymnt_plan', 0.0), ('tot_coll_amt', -0.0015108838063587495), ('num_actv_bc_tl', -0.013067127882715883), ('num_actv_rev_tl', -0.019982185239988286), ('bc_open_to_buy', -0.020062998691228788), ('num_il_tl', -0.025560671446168068), ('annual_inc', -0.027874631714582872), ('tax_liens', -0.032267074238442321), ('mo_sin_rcnt_tl', -0.033729141953561574), ('num_tl_90g_dpd_24m', -0.03516155285277444), ('mort_acc', -0.038775662051072315), ('open_acc', -0.039796640012398111), ('num_sats', -0.046070580876285329), ('total_rev_hi_lim', -0.046255552686682452), ('emp_length', -0.056842208448558675), ('mo_sin_old_rev_tl_op', -0.062579490161025847), ('total_acc', -0.066697347142066876), ('revol_bal', -0.071393740020225985), ('home_ownership', -0.072140935284877875), ('mths_since_recent_bc', -0.073585507905660971), ('new_mean', -0.095006508886105429), ('bc_util', -0.10307911325563411), ('num_bc_tl', -0.1251247517065954), ('tot_hi_cred_lim', -0.16860049066271954), ('total_bc_limit', -0.20625699104528311), ('total_il_high_credit_limit', -0.32426141531147062), ('last_pymnt_amnt', -6.168244846435786)]\n"
     ]
    }
   ],
   "source": [
    "weight=tuple(weight)\n",
    "print (sorted(weight, key=lambda t: (-t[1], t[0])))"
   ]
  },
  {
   "cell_type": "code",
   "execution_count": 48,
   "metadata": {},
   "outputs": [
    {
     "name": "stdout",
     "output_type": "stream",
     "text": [
      "[('loan_amnt', 0.95128207471162107), ('total_bal_ex_mort', 0.31977614766316848), ('dti', 0.30717652410352736), ('acc_open_past_24mths', 0.29148903268001325), ('initial_list_status', 0.18680750146172492), ('percent_bc_gt_75', 0.17789617533049809), ('num_bc_sats', 0.14808388800458697), ('num_tl_op_past_12m', 0.13656290472004876), ('delinq_2yrs', 0.11828028469510475), ('purpose', 0.11608631189702585)]\n"
     ]
    }
   ],
   "source": [
    "print(sorted(weight, key=lambda t: (-t[1], t[0]))[:10])"
   ]
  },
  {
   "cell_type": "code",
   "execution_count": 8,
   "metadata": {
    "scrolled": true
   },
   "outputs": [
    {
     "name": "stdout",
     "output_type": "stream",
     "text": [
      "Warning: xgboost.XGBRegressor is not available and will not be used by TPOT.\n"
     ]
    },
    {
     "name": "stderr",
     "output_type": "stream",
     "text": [
      "                                                                                                                       \r"
     ]
    },
    {
     "name": "stdout",
     "output_type": "stream",
     "text": [
      "Generation 1 - Current best internal CV score: -0.083838768565413\n"
     ]
    },
    {
     "name": "stderr",
     "output_type": "stream",
     "text": [
      "                                                                                                                       \r"
     ]
    },
    {
     "name": "stdout",
     "output_type": "stream",
     "text": [
      "Generation 2 - Current best internal CV score: -0.08064426478439243\n"
     ]
    },
    {
     "name": "stderr",
     "output_type": "stream",
     "text": [
      "                                                                                                                       \r"
     ]
    },
    {
     "name": "stdout",
     "output_type": "stream",
     "text": [
      "Generation 3 - Current best internal CV score: -0.08064426478439243\n"
     ]
    },
    {
     "name": "stderr",
     "output_type": "stream",
     "text": [
      "                                                                                                                       \r"
     ]
    },
    {
     "name": "stdout",
     "output_type": "stream",
     "text": [
      "Generation 4 - Current best internal CV score: -0.07324939153201887\n"
     ]
    },
    {
     "name": "stderr",
     "output_type": "stream",
     "text": [
      "                                                              \r"
     ]
    },
    {
     "name": "stdout",
     "output_type": "stream",
     "text": [
      "Generation 5 - Current best internal CV score: -0.07324939153201887\n"
     ]
    },
    {
     "name": "stderr",
     "output_type": "stream",
     "text": [
      "                                                              \r"
     ]
    },
    {
     "name": "stdout",
     "output_type": "stream",
     "text": [
      "\n",
      "Best pipeline: DecisionTreeRegressor(DecisionTreeRegressor(RidgeCV(input_matrix), max_depth=3, min_samples_leaf=18, min_samples_split=3), max_depth=7, min_samples_leaf=7, min_samples_split=2)\n",
      "-0.0734595202825\n"
     ]
    },
    {
     "data": {
      "text/plain": [
       "True"
      ]
     },
     "execution_count": 8,
     "metadata": {},
     "output_type": "execute_result"
    }
   ],
   "source": [
    "from tpot import TPOTRegressor\n",
    "tpot = TPOTRegressor(generations=5, population_size=20, verbosity=2)\n",
    "tpot.fit(x_train_scaled, y_train)\n",
    "print(tpot.score(x_test_scaled, y_test))\n",
    "tpot.export('tpot_boston_pipeline.py')"
   ]
  },
  {
   "cell_type": "code",
   "execution_count": 9,
   "metadata": {
    "collapsed": true
   },
   "outputs": [],
   "source": [
    "tpot_pred = tpot.predict(x_test_scaled)\n",
    "sub1 = pd.DataFrame(data=tpot_pred)\n",
    "sub1.to_csv('tpot1.csv',index=False)"
   ]
  },
  {
   "cell_type": "code",
   "execution_count": 10,
   "metadata": {
    "collapsed": true
   },
   "outputs": [],
   "source": [
    "for x in range(len(tpot_pred)):\n",
    "    if tpot_pred[x]<0.5:\n",
    "        tpot_pred[x]=0\n",
    "    else:\n",
    "        tpot_pred[x]=1\n"
   ]
  },
  {
   "cell_type": "code",
   "execution_count": 11,
   "metadata": {},
   "outputs": [
    {
     "name": "stdout",
     "output_type": "stream",
     "text": [
      "mean accuracy for fully paid 0.9267935000624741\n",
      "mean accuracy for Default 0.7398373983739838\n",
      "total mean accuray 0.8871216752494534\n"
     ]
    }
   ],
   "source": [
    "cnt_0=0\n",
    "cnt_0_predicted=0\n",
    "cnt_1=0\n",
    "cnt_1_predicted=0\n",
    "for x in range(len(y_predicted)):\n",
    "    if y_test[x]==0:\n",
    "        cnt_0+=1\n",
    "    if y_test[x]==0 and tpot_pred[x]==0:\n",
    "        cnt_0_predicted+=1 \n",
    "    if y_test[x]==1:\n",
    "        cnt_1+=1\n",
    "    if y_test[x]==1 and tpot_pred[x]==1:\n",
    "        cnt_1_predicted+=1 \n",
    "print(\"mean accuracy for fully paid\", cnt_0_predicted/cnt_0)\n",
    "print(\"mean accuracy for Default\", cnt_1_predicted/cnt_1)\n",
    "print(\"total mean accuray\",( cnt_0_predicted+cnt_1_predicted)/(cnt_0+cnt_1))"
   ]
  },
  {
   "cell_type": "code",
   "execution_count": null,
   "metadata": {
    "collapsed": true
   },
   "outputs": [],
   "source": []
  }
 ],
 "metadata": {
  "kernelspec": {
   "display_name": "Python 3",
   "language": "python",
   "name": "python3"
  },
  "language_info": {
   "codemirror_mode": {
    "name": "ipython",
    "version": 3
   },
   "file_extension": ".py",
   "mimetype": "text/x-python",
   "name": "python",
   "nbconvert_exporter": "python",
   "pygments_lexer": "ipython3",
   "version": "3.5.5"
  }
 },
 "nbformat": 4,
 "nbformat_minor": 2
}
