{
 "cells": [
  {
   "cell_type": "code",
   "execution_count": 4,
   "metadata": {
    "collapsed": false
   },
   "outputs": [],
   "source": [
    "%matplotlib inline\n",
    "import os\n",
    "import pandas as pd\n",
    "from matplotlib import pyplot as plt\n",
    "import numpy as np\n",
    "import math\n",
    "from numbers import Number\n",
    "from scipy import stats"
   ]
  },
  {
   "cell_type": "markdown",
   "metadata": {},
   "source": [
    "We will calculate the percentage for missing data in 3 categories: secondary applicants, hardship, debt-settlement; Then we will analysis if the default rate will change a lot conditionally on those categories. "
   ]
  },
  {
   "cell_type": "code",
   "execution_count": 5,
   "metadata": {
    "collapsed": false
   },
   "outputs": [
    {
     "data": {
      "text/plain": [
       "'\\ndef process_frame(df):\\n        # process data frame\\n        return len(df)\\n\\nif __name__ == \\'__main__\\':\\n        reader = pd.read_table(LARGE_FILE, chunksize=CHUNKSIZE)\\n\\n        result = 0\\n        for df in reader:\\n                # process each data frame\\n                result += process_frame(df)\\n\\n        print(\"There are %d rows of data\"%(result))\\n'"
      ]
     },
     "execution_count": 5,
     "metadata": {},
     "output_type": "execute_result"
    }
   ],
   "source": [
    "LARGE_FILE = \"D:\\Study_UIUC\\practicum\\loan_data_complete.csv\"\n",
    "CHUNKSIZE = 100000 # processing 100,000 rows at a time\n",
    "'''\n",
    "def process_frame(df):\n",
    "        # process data frame\n",
    "        return len(df)\n",
    "\n",
    "if __name__ == '__main__':\n",
    "        reader = pd.read_table(LARGE_FILE, chunksize=CHUNKSIZE)\n",
    "\n",
    "        result = 0\n",
    "        for df in reader:\n",
    "                # process each data frame\n",
    "                result += process_frame(df)\n",
    "\n",
    "        print(\"There are %d rows of data\"%(result))\n",
    "'''"
   ]
  },
  {
   "cell_type": "code",
   "execution_count": 6,
   "metadata": {
    "collapsed": true
   },
   "outputs": [],
   "source": [
    "reader = pd.read_csv(LARGE_FILE, chunksize=CHUNKSIZE, low_memory=False)\n",
    "loan_data1 = pd.DataFrame()\n",
    "loan_data2 = pd.DataFrame()\n",
    "loan_data3 = pd.DataFrame()\n",
    "loan_data4 = pd.DataFrame()\n",
    "loan_data5 = pd.DataFrame()\n",
    "loan_data6 = pd.DataFrame()\n",
    "loan_data7 = pd.DataFrame()\n",
    "loan_data8 = pd.DataFrame()\n",
    "loan_data9 = pd.DataFrame()\n",
    "frames1 = []\n",
    "frames2 = []\n",
    "frames3 = []\n",
    "frames4 = []\n",
    "frames5 = []\n",
    "frames6 = []\n",
    "frames7 = []\n",
    "frames8 = []\n",
    "frames9 = []"
   ]
  },
  {
   "cell_type": "markdown",
   "metadata": {},
   "source": [
    "We firstly count how many \"current\", \"charged off\", \"fully paid\", \"in grace period\", \"late(16-30 days)\", \"late(31-120days)\",\"Does not meet the credit policy. Status:Fully Paid\", \"Does not meet the credit policy. Status:Fully Paid\", \"Default\""
   ]
  },
  {
   "cell_type": "code",
   "execution_count": 7,
   "metadata": {
    "collapsed": false
   },
   "outputs": [],
   "source": [
    "reader = pd.read_csv(LARGE_FILE, chunksize=CHUNKSIZE, low_memory=False)\n",
    "for df in reader:\n",
    "    frames1.append(df[df[\"loan_status\"] == \"Fully Paid\"])\n",
    "loan_data1 = pd.concat(frames1)"
   ]
  },
  {
   "cell_type": "code",
   "execution_count": 8,
   "metadata": {
    "collapsed": true
   },
   "outputs": [],
   "source": [
    "reader = pd.read_csv(LARGE_FILE, chunksize=CHUNKSIZE, low_memory=False)\n",
    "for df in reader:\n",
    "    frames2.append(df[df[\"loan_status\"] == \"Does not meet the credit policy. Status:Fully Paid\"])\n",
    "loan_data2 = pd.concat(frames2)"
   ]
  },
  {
   "cell_type": "code",
   "execution_count": 9,
   "metadata": {
    "collapsed": true
   },
   "outputs": [],
   "source": [
    "reader = pd.read_csv(LARGE_FILE, chunksize=CHUNKSIZE, low_memory=False)\n",
    "for df in reader:\n",
    "    frames3.append(df[df[\"loan_status\"] == \"Does not meet the credit policy. Status:Charged Off\"])\n",
    "loan_data3 = pd.concat(frames3)"
   ]
  },
  {
   "cell_type": "code",
   "execution_count": 10,
   "metadata": {
    "collapsed": true
   },
   "outputs": [],
   "source": [
    "reader = pd.read_csv(LARGE_FILE, chunksize=CHUNKSIZE, low_memory=False)\n",
    "for df in reader:\n",
    "    frames4.append(df[df[\"loan_status\"] == \"In Grace Period\"])\n",
    "loan_data4 = pd.concat(frames4)"
   ]
  },
  {
   "cell_type": "code",
   "execution_count": 11,
   "metadata": {
    "collapsed": true
   },
   "outputs": [],
   "source": [
    "reader = pd.read_csv(LARGE_FILE, chunksize=CHUNKSIZE, low_memory=False)\n",
    "for df in reader:\n",
    "    frames5.append(df[df[\"loan_status\"] == \"Late (16-30 days)\"])\n",
    "loan_data5 = pd.concat(frames5)"
   ]
  },
  {
   "cell_type": "code",
   "execution_count": 12,
   "metadata": {
    "collapsed": true
   },
   "outputs": [],
   "source": [
    "reader = pd.read_csv(LARGE_FILE, chunksize=CHUNKSIZE, low_memory=False)\n",
    "for df in reader:\n",
    "    frames6.append(df[df[\"loan_status\"] == \"Late (31-120 days)\"])\n",
    "loan_data6 = pd.concat(frames6)"
   ]
  },
  {
   "cell_type": "code",
   "execution_count": 13,
   "metadata": {
    "collapsed": true
   },
   "outputs": [],
   "source": [
    "reader = pd.read_csv(LARGE_FILE, chunksize=CHUNKSIZE, low_memory=False)\n",
    "for df in reader:\n",
    "    frames7.append(df[df[\"loan_status\"] == \"Default\"])\n",
    "loan_data7 = pd.concat(frames7)"
   ]
  },
  {
   "cell_type": "code",
   "execution_count": 14,
   "metadata": {
    "collapsed": false
   },
   "outputs": [],
   "source": [
    "reader = pd.read_csv(LARGE_FILE, chunksize=CHUNKSIZE, low_memory=False)\n",
    "for df in reader:\n",
    "    frames8.append(df[df[\"loan_status\"] == \"Charged Off\"])\n",
    "loan_data8 = pd.concat(frames8)"
   ]
  },
  {
   "cell_type": "code",
   "execution_count": 15,
   "metadata": {
    "collapsed": false
   },
   "outputs": [],
   "source": [
    "reader = pd.read_csv(LARGE_FILE, chunksize=CHUNKSIZE, low_memory=False)\n",
    "for df in reader:\n",
    "    frames9.append(df[df[\"loan_status\"] == \"Current\"])\n",
    "loan_data9 = pd.concat(frames9)"
   ]
  },
  {
   "cell_type": "markdown",
   "metadata": {},
   "source": [
    "Below are percentage for the distribution of all types in the column \"loan_status\""
   ]
  },
  {
   "cell_type": "code",
   "execution_count": 35,
   "metadata": {
    "collapsed": false
   },
   "outputs": [
    {
     "name": "stdout",
     "output_type": "stream",
     "text": [
      "669845 1988 761 11312 5293 21843 119 175057 760560\n",
      "fully paid 0.406755278871\n",
      "Does not meet the credit policy. Status:Fully Paid 0.00120718896819\n",
      "Does not meet the credit policy. Status:Charged Off 0.0004621080507\n",
      "in grace period 0.0068690752556\n",
      "late30 0.0032141102659\n",
      "late120 0.0132638977023\n",
      "default 7.2261311476e-05\n",
      "charged off 0.106301247084\n",
      "current 0.461840866018\n"
     ]
    }
   ],
   "source": [
    "print len(loan_data1), len(loan_data2), len(loan_data3), len(loan_data4), len(loan_data5), len(loan_data6),\n",
    "print len(loan_data7), len(loan_data8), len(loan_data9)\n",
    "print \"fully paid\",len(loan_data1)/1646801.0\n",
    "print \"Does not meet the credit policy. Status:Fully Paid\",len(loan_data2)/1646801.0 \n",
    "print \"Does not meet the credit policy. Status:Charged Off\",len(loan_data3)/1646801.0\n",
    "print \"in grace period\", len(loan_data4)/1646801.0 \n",
    "print \"late30\",len(loan_data5)/1646801.0\n",
    "print \"late120\",len(loan_data6)/1646801.0\n",
    "print \"default\",len(loan_data7)/1646801.0\n",
    "print \"charged off\",len(loan_data8)/1646801.0\n",
    "print \"current\",len(loan_data9)/1646801.0"
   ]
  },
  {
   "cell_type": "code",
   "execution_count": 36,
   "metadata": {
    "collapsed": false
   },
   "outputs": [
    {
     "data": {
      "text/plain": [
       "[<matplotlib.text.Text at 0xd594e10>,\n",
       " <matplotlib.text.Text at 0xd592d68>,\n",
       " <matplotlib.text.Text at 0x27b3d978>,\n",
       " <matplotlib.text.Text at 0xd429a58>,\n",
       " <matplotlib.text.Text at 0x1da967f0>,\n",
       " <matplotlib.text.Text at 0x1da96e48>,\n",
       " <matplotlib.text.Text at 0x1a9184e0>,\n",
       " <matplotlib.text.Text at 0x1a918b38>,\n",
       " <matplotlib.text.Text at 0x1a9081d0>]"
      ]
     },
     "execution_count": 36,
     "metadata": {},
     "output_type": "execute_result"
    },
    {
     "data": {
      "image/png": "[encoded data removed]",
      "text/plain": [
       "<matplotlib.figure.Figure at 0x54874940>"
      ]
     },
     "metadata": {},
     "output_type": "display_data"
    }
   ],
   "source": [
    "pct_loan_status = (len(loan_data1)/1646801.0, len(loan_data2)/1646801.0 , len(loan_data3)/1646801.0,len(loan_data4)/1646801.0 ,\n",
    "                   len(loan_data5)/1646801.0, len(loan_data6)/1646801.0 , len(loan_data7)/1646801.0,len(loan_data8)/1646801.0,\n",
    "                   len(loan_data9)/1646801.0)\n",
    "width = 0.35\n",
    "ind = np.arange(9)\n",
    "fig,ax = plt.subplots()\n",
    "rect = ax.bar(ind, pct_loan_status, width, color='b')\n",
    "ax.set_title('percent for each status')\n",
    "ax.set_xticks(ind + width / 2)\n",
    "ax.set_xticklabels(('1', '2', '3', '4', '5', '6', '7', '8', '9'))"
   ]
  },
  {
   "cell_type": "markdown",
   "metadata": {},
   "source": [
    "In order to see how many people are in hardship, we count that with columns don't have missing data"
   ]
  },
  {
   "cell_type": "code",
   "execution_count": 25,
   "metadata": {
    "collapsed": true
   },
   "outputs": [],
   "source": [
    "reader = pd.read_csv(LARGE_FILE, chunksize=CHUNKSIZE, low_memory=False)\n",
    "data1 = pd.DataFrame()\n",
    "frame_hardship = []"
   ]
  },
  {
   "cell_type": "code",
   "execution_count": 26,
   "metadata": {
    "collapsed": false
   },
   "outputs": [],
   "source": [
    "for df in reader:\n",
    "    frame_hardship.append(df[df[\"deferral_term\"] >= 0])\n",
    "data1 = pd.concat(frame_hardship)"
   ]
  },
  {
   "cell_type": "code",
   "execution_count": 27,
   "metadata": {
    "collapsed": false
   },
   "outputs": [],
   "source": [
    "data_with_hardship = len(data1)"
   ]
  },
  {
   "cell_type": "code",
   "execution_count": 28,
   "metadata": {
    "collapsed": false
   },
   "outputs": [
    {
     "name": "stdout",
     "output_type": "stream",
     "text": [
      "6125\n",
      "pct for charged off:\n",
      "0.112489795918\n",
      "0.0290612244898\n",
      "0.0\n",
      "0.0\n",
      "0.0595918367347\n",
      "0.0502857142857\n",
      "0.242775510204\n",
      "0.0151836734694\n",
      "0.112489795918\n",
      "0.490612244898\n"
     ]
    },
    {
     "data": {
      "text/plain": [
       "[<matplotlib.text.Text at 0x52190668>,\n",
       " <matplotlib.text.Text at 0x7a112048>,\n",
       " <matplotlib.text.Text at 0x7a11b518>,\n",
       " <matplotlib.text.Text at 0x7a0f9358>,\n",
       " <matplotlib.text.Text at 0x7a0f9e10>,\n",
       " <matplotlib.text.Text at 0x7a105518>,\n",
       " <matplotlib.text.Text at 0x7a105b38>,\n",
       " <matplotlib.text.Text at 0x79b3f9b0>,\n",
       " <matplotlib.text.Text at 0x79b3f7b8>]"
      ]
     },
     "execution_count": 28,
     "metadata": {},
     "output_type": "execute_result"
    },
    {
     "data": {
      "image/png": "[encoded data removed]",
      "text/plain": [
       "<matplotlib.figure.Figure at 0x7d5cdd30>"
      ]
     },
     "metadata": {},
     "output_type": "display_data"
    }
   ],
   "source": [
    "print data_with_hardship\n",
    "count_current = 0;\n",
    "count_chargeoff = 0;\n",
    "count_fullypaid = 0;\n",
    "count_late30 = 0;\n",
    "count_late120 = 0;\n",
    "count_grace = 0;\n",
    "count_default = 0;\n",
    "count_charged_policy = 0;\n",
    "count_fully_policy = 0;\n",
    "\n",
    "for val in data1[\"loan_status\"]:\n",
    "    if val == \"Current\":\n",
    "        count_current += 1;\n",
    "    if val == \"Fully Paid\":\n",
    "        count_fullypaid += 1;\n",
    "    if val == \"Charged Off\":\n",
    "        count_chargeoff += 1;\n",
    "    if val == \"In Grace Period\":\n",
    "        count_grace += 1;\n",
    "    if val == \"Late (16-30 days)\":\n",
    "        count_late30 += 1;\n",
    "    if val == \"Late (31-120 days)\":\n",
    "        count_late120 += 1;\n",
    "    if val == \"Default\":\n",
    "        count_default += 1;\n",
    "    if val == \"Does not meet the credit policy. Status:Charged Off\":\n",
    "        count_charged_policy += 1;\n",
    "    if val == \"Does not meet the credit policy. Status:Fully Paid\":\n",
    "        count_fully_policy += 1;\n",
    "print \"pct for charged off:\"\n",
    "print count_chargeoff/(float(data_with_hardship))\n",
    "pct = (count_fullypaid/(float(data_with_hardship)),\n",
    "       count_fully_policy/(float(data_with_hardship)),\n",
    "       count_charged_policy/(float(data_with_hardship)),\n",
    "       count_grace/(float(data_with_hardship)),\n",
    "       count_late30/(float(data_with_hardship)),\n",
    "       count_late120/(float(data_with_hardship)),\n",
    "       count_default/(float(data_with_hardship)),\n",
    "       count_chargeoff/(float(data_with_hardship)),\n",
    "       count_current/(float(data_with_hardship))) \n",
    "for i in pct:\n",
    "    print i\n",
    "width = 0.35\n",
    "ind = np.arange(9)\n",
    "fig,ax = plt.subplots()\n",
    "rect = ax.bar(ind, pct, width, color='b')\n",
    "ax.set_title('percent for each status')\n",
    "ax.set_xticks(ind + width / 2)\n",
    "ax.set_xticklabels(('1', '2', '3', '4', '5', '6', '7', '8', '9'))"
   ]
  },
  {
   "cell_type": "code",
   "execution_count": 41,
   "metadata": {
    "collapsed": false
   },
   "outputs": [
    {
     "name": "stdout",
     "output_type": "stream",
     "text": [
      "0.00371933220832\n"
     ]
    }
   ],
   "source": [
    "pct_hardship = data_with_hardship / 1646801.0\n",
    "print pct_hardship\n"
   ]
  },
  {
   "cell_type": "markdown",
   "metadata": {},
   "source": [
    "We can see that nearly all applicants are not in hardship. And it also means that there will be a huge amount of missing data in following columns!"
   ]
  },
  {
   "cell_type": "code",
   "execution_count": 29,
   "metadata": {
    "collapsed": false
   },
   "outputs": [],
   "source": [
    "reader = pd.read_csv(LARGE_FILE, chunksize=CHUNKSIZE, low_memory=False)\n",
    "frame_debt_settlement_flag = [];\n",
    "data2 = pd.DataFrame()"
   ]
  },
  {
   "cell_type": "code",
   "execution_count": 30,
   "metadata": {
    "collapsed": false
   },
   "outputs": [],
   "source": [
    "for df in reader:\n",
    "    frame_debt_settlement_flag.append(df[df[\"settlement_amount\"] >= 0])\n",
    "data2 = pd.concat(frame_debt_settlement_flag)"
   ]
  },
  {
   "cell_type": "code",
   "execution_count": 31,
   "metadata": {
    "collapsed": false,
    "scrolled": true
   },
   "outputs": [
    {
     "name": "stdout",
     "output_type": "stream",
     "text": [
      "pct for charged off:\n",
      "0.953382949932\n",
      "6.76589986468e-05\n",
      "0.0\n",
      "0.000676589986468\n",
      "0.00108254397835\n",
      "0.00121786197564\n",
      "0.040798376184\n",
      "0.000541271989175\n",
      "0.953382949932\n",
      "0.00223274695535\n"
     ]
    },
    {
     "data": {
      "text/plain": [
       "[<matplotlib.text.Text at 0x79f40278>,\n",
       " <matplotlib.text.Text at 0x79f42470>,\n",
       " <matplotlib.text.Text at 0x51bdc588>,\n",
       " <matplotlib.text.Text at 0x51bda1d0>,\n",
       " <matplotlib.text.Text at 0x51bdad68>,\n",
       " <matplotlib.text.Text at 0x49af07f0>,\n",
       " <matplotlib.text.Text at 0x49af0da0>,\n",
       " <matplotlib.text.Text at 0x50f89668>,\n",
       " <matplotlib.text.Text at 0x78c3d7b8>]"
      ]
     },
     "execution_count": 31,
     "metadata": {},
     "output_type": "execute_result"
    },
    {
     "data": {
      "image/png": "[encoded data removed]",
      "text/plain": [
       "<matplotlib.figure.Figure at 0x79f4d828>"
      ]
     },
     "metadata": {},
     "output_type": "display_data"
    }
   ],
   "source": [
    "data_with_debt_settlement = len(data2)\n",
    "count_current = 0;\n",
    "count_chargeoff = 0;\n",
    "count_fullypaid = 0;\n",
    "count_late30 = 0;\n",
    "count_late120 = 0;\n",
    "count_grace = 0;\n",
    "count_default = 0;\n",
    "count_charged_policy = 0;\n",
    "count_fully_policy = 0;\n",
    "\n",
    "for val in data2[\"loan_status\"]:\n",
    "    if val == \"Current\":\n",
    "        count_current += 1;\n",
    "    if val == \"Fully Paid\":\n",
    "        count_fullypaid += 1;\n",
    "    if val == \"Charged Off\":\n",
    "        count_chargeoff += 1;\n",
    "    if val == \"In Grace Period\":\n",
    "        count_grace += 1;\n",
    "    if val == \"Late (16-30 days)\":\n",
    "        count_late30 += 1;\n",
    "    if val == \"Late (31-120 days)\":\n",
    "        count_late120 += 1;\n",
    "    if val == \"Default\":\n",
    "        count_default += 1;\n",
    "    if val == \"Does not meet the credit policy. Status:Charged Off\":\n",
    "        count_charged_policy += 1;\n",
    "    if val == \"Does not meet the credit policy. Status:Fully Paid\":\n",
    "        count_fully_policy += 1;\n",
    "print \"pct for charged off:\"\n",
    "print count_chargeoff/(float(data_with_debt_settlement))\n",
    "pct = (count_fullypaid/(float(data_with_debt_settlement)),\n",
    "       count_fully_policy/(float(data_with_debt_settlement)),\n",
    "       count_charged_policy/(float(data_with_debt_settlement)),\n",
    "       count_grace/(float(data_with_debt_settlement)),\n",
    "       count_late30/(float(data_with_debt_settlement)),\n",
    "       count_late120/(float(data_with_debt_settlement)),\n",
    "       count_default/(float(data_with_debt_settlement)),\n",
    "       count_chargeoff/(float(data_with_debt_settlement)),\n",
    "       count_current/(float(data_with_debt_settlement))) \n",
    "for i in pct:\n",
    "    print i\n",
    "width = 0.35\n",
    "ind = np.arange(9)\n",
    "fig,ax = plt.subplots()\n",
    "rect = ax.bar(ind, pct, width, color='b')\n",
    "ax.set_title('percent for each status')\n",
    "ax.set_xticks(ind + width / 2)\n",
    "ax.set_xticklabels(('1', '2', '3', '4', '5', '6', '7', '8', '9'))"
   ]
  },
  {
   "cell_type": "code",
   "execution_count": 47,
   "metadata": {
    "collapsed": false
   },
   "outputs": [
    {
     "name": "stdout",
     "output_type": "stream",
     "text": [
      "0.0089749763329\n"
     ]
    }
   ],
   "source": [
    "pct_debt_settlement = data_with_debt_settlement / 1646801.0\n",
    "print pct_debt_settlement"
   ]
  },
  {
   "cell_type": "markdown",
   "metadata": {},
   "source": [
    "We can see that nearly all applicants are not in debt settlement. And it also means that there will be a huge amount of missing data in following columns!"
   ]
  },
  {
   "cell_type": "code",
   "execution_count": 32,
   "metadata": {
    "collapsed": true
   },
   "outputs": [],
   "source": [
    "reader = pd.read_csv(LARGE_FILE, chunksize=CHUNKSIZE, low_memory=False)\n",
    "frame_disbursement_method = [];\n",
    "data3 = pd.DataFrame();"
   ]
  },
  {
   "cell_type": "code",
   "execution_count": 33,
   "metadata": {
    "collapsed": true
   },
   "outputs": [],
   "source": [
    "for df in reader:\n",
    "    frame_disbursement_method.append(df[df[\"disbursement_method\"] == \"Cash\"])\n",
    "data3 = pd.concat(frame_disbursement_method)"
   ]
  },
  {
   "cell_type": "code",
   "execution_count": 50,
   "metadata": {
    "collapsed": false
   },
   "outputs": [
    {
     "name": "stdout",
     "output_type": "stream",
     "text": [
      "1643597\n"
     ]
    }
   ],
   "source": [
    "data_with_cash_disbursement_method = len(data3)\n",
    "print data_with_cash_disbursement_method"
   ]
  },
  {
   "cell_type": "code",
   "execution_count": 51,
   "metadata": {
    "collapsed": false
   },
   "outputs": [
    {
     "name": "stdout",
     "output_type": "stream",
     "text": [
      "0.998054409731\n"
     ]
    }
   ],
   "source": [
    "pct_cash_disbursement_method = data_with_cash_disbursement_method / 1646801.0\n",
    "print pct_cash_disbursement_method"
   ]
  },
  {
   "cell_type": "markdown",
   "metadata": {},
   "source": [
    "We can see that nearly all applicants are with cash disbursement method. And it also means that there will be a huge amount of missing data in following columns!"
   ]
  },
  {
   "cell_type": "code",
   "execution_count": 34,
   "metadata": {
    "collapsed": false
   },
   "outputs": [],
   "source": [
    "reader = pd.read_csv(LARGE_FILE, chunksize=CHUNKSIZE, low_memory=False)\n",
    "frame_secondary = [];\n",
    "data4 = pd.DataFrame();"
   ]
  },
  {
   "cell_type": "code",
   "execution_count": 35,
   "metadata": {
    "collapsed": false
   },
   "outputs": [],
   "source": [
    "for df in reader:\n",
    "    frame_secondary.append(df[df[\"revol_bal_joint\"] > 0])\n",
    "data4 = pd.concat(frame_secondary)"
   ]
  },
  {
   "cell_type": "code",
   "execution_count": 36,
   "metadata": {
    "collapsed": false
   },
   "outputs": [],
   "source": [
    "data_with_secondary = len(data4)"
   ]
  },
  {
   "cell_type": "code",
   "execution_count": 37,
   "metadata": {
    "collapsed": false
   },
   "outputs": [
    {
     "name": "stdout",
     "output_type": "stream",
     "text": [
      "21807\n",
      "pct for charged off:\n",
      "0.00403540147659\n",
      "0.0430137111937\n",
      "0.0\n",
      "0.0\n",
      "0.0122896317696\n",
      "0.00472325400101\n",
      "0.0133901958087\n",
      "0.0\n",
      "0.00403540147659\n",
      "0.92254780575\n"
     ]
    },
    {
     "data": {
      "text/plain": [
       "[<matplotlib.text.Text at 0x134bffc18>,\n",
       " <matplotlib.text.Text at 0x134c1fa90>,\n",
       " <matplotlib.text.Text at 0x134bf7fd0>,\n",
       " <matplotlib.text.Text at 0x134bf7898>,\n",
       " <matplotlib.text.Text at 0x134bf7160>,\n",
       " <matplotlib.text.Text at 0x134c00a20>,\n",
       " <matplotlib.text.Text at 0x134c00278>,\n",
       " <matplotlib.text.Text at 0x134c20ba8>,\n",
       " <matplotlib.text.Text at 0x134c20470>]"
      ]
     },
     "execution_count": 37,
     "metadata": {},
     "output_type": "execute_result"
    },
    {
     "data": {
      "image/png": "[encoded data removed]",
      "text/plain": [
       "<matplotlib.figure.Figure at 0x49601e10>"
      ]
     },
     "metadata": {},
     "output_type": "display_data"
    }
   ],
   "source": [
    "print data_with_secondary\n",
    "count_current = 0;\n",
    "count_chargeoff = 0;\n",
    "count_fullypaid = 0;\n",
    "count_late30 = 0;\n",
    "count_late120 = 0;\n",
    "count_grace = 0;\n",
    "count_default = 0;\n",
    "count_charged_policy = 0;\n",
    "count_fully_policy = 0;\n",
    "\n",
    "for val in data4[\"loan_status\"]:\n",
    "    if val == \"Current\":\n",
    "        count_current += 1;\n",
    "    if val == \"Fully Paid\":\n",
    "        count_fullypaid += 1;\n",
    "    if val == \"Charged Off\":\n",
    "        count_chargeoff += 1;\n",
    "    if val == \"In Grace Period\":\n",
    "        count_grace += 1;\n",
    "    if val == \"Late (16-30 days)\":\n",
    "        count_late30 += 1;\n",
    "    if val == \"Late (31-120 days)\":\n",
    "        count_late120 += 1;\n",
    "    if val == \"Default\":\n",
    "        count_default += 1;\n",
    "    if val == \"Does not meet the credit policy. Status:Charged Off\":\n",
    "        count_charged_policy += 1;\n",
    "    if val == \"Does not meet the credit policy. Status:Fully Paid\":\n",
    "        count_fully_policy += 1;\n",
    "print \"pct for charged off:\"\n",
    "print count_chargeoff/(float(data_with_secondary))\n",
    "pct = (count_fullypaid/(float(data_with_secondary)),\n",
    "       count_fully_policy/(float(data_with_secondary)),\n",
    "       count_charged_policy/(float(data_with_secondary)),\n",
    "       count_grace/(float(data_with_secondary)),\n",
    "       count_late30/(float(data_with_secondary)),\n",
    "       count_late120/(float(data_with_secondary)),\n",
    "       count_default/(float(data_with_secondary)),\n",
    "       count_chargeoff/(float(data_with_secondary)),\n",
    "       count_current/(float(data_with_secondary))) \n",
    "for i in pct:\n",
    "    print i\n",
    "width = 0.35\n",
    "ind = np.arange(9)\n",
    "fig,ax = plt.subplots()\n",
    "rect = ax.bar(ind, pct, width, color='b')\n",
    "ax.set_title('percent for each status')\n",
    "ax.set_xticks(ind + width / 2)\n",
    "ax.set_xticklabels(('1', '2', '3', '4', '5', '6', '7', '8', '9'))"
   ]
  },
  {
   "cell_type": "code",
   "execution_count": 89,
   "metadata": {
    "collapsed": false
   },
   "outputs": [
    {
     "name": "stdout",
     "output_type": "stream",
     "text": [
      "0.986757962863\n"
     ]
    }
   ],
   "source": [
    "pct_with_out_secondary = 1 - data_with_secondary / 1646801.0\n",
    "print pct_with_out_secondary"
   ]
  },
  {
   "cell_type": "markdown",
   "metadata": {
    "collapsed": true
   },
   "source": []
  },
  {
   "cell_type": "code",
   "execution_count": 21,
   "metadata": {
    "collapsed": false
   },
   "outputs": [
    {
     "data": {
      "text/plain": [
       "0.9910250236671"
      ]
     },
     "execution_count": 21,
     "metadata": {},
     "output_type": "execute_result"
    }
   ],
   "source": [
    "1-0.0089749763329"
   ]
  },
  {
   "cell_type": "code",
   "execution_count": 22,
   "metadata": {
    "collapsed": false
   },
   "outputs": [
    {
     "data": {
      "text/plain": [
       "0.99628066779168"
      ]
     },
     "execution_count": 22,
     "metadata": {},
     "output_type": "execute_result"
    }
   ],
   "source": [
    "1-0.00371933220832"
   ]
  },
  {
   "cell_type": "code",
   "execution_count": null,
   "metadata": {
    "collapsed": true
   },
   "outputs": [],
   "source": []
  }
 ],
 "metadata": {
  "kernelspec": {
   "display_name": "Python 2",
   "language": "python",
   "name": "python2"
  },
  "language_info": {
   "codemirror_mode": {
    "name": "ipython",
    "version": 2
   },
   "file_extension": ".py",
   "mimetype": "text/x-python",
   "name": "python",
   "nbconvert_exporter": "python",
   "pygments_lexer": "ipython2",
   "version": "2.7.13"
  }
 },
 "nbformat": 4,
 "nbformat_minor": 0
}
