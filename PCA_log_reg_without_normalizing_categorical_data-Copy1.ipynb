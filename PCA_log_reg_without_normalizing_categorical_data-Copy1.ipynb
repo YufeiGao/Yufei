{
 "cells": [
  {
   "cell_type": "code",
   "execution_count": 511,
   "metadata": {
    "collapsed": false
   },
   "outputs": [
    {
     "data": {
      "text/plain": [
       "'\\n@Project: Connexin Group \\n\\n@FileName: pca for dimension reduction\\n\\n@Author：Zhejian Peng\\n\\n@Create date: Mar. 11th, 2018\\n\\n@description：reduce dimension of our dataset using pca, without normalizing categorical data.\\n\\n@Update date：Mar. 11th, 2018\\n\\n@Vindicator：  \\n\\n'"
      ]
     },
     "execution_count": 511,
     "metadata": {},
     "output_type": "execute_result"
    }
   ],
   "source": [
    "\"\"\"\n",
    "@Project: Connexin Group \n",
    "\n",
    "@FileName: pca for dimension reduction\n",
    "\n",
    "@Author：Zhejian Peng\n",
    "\n",
    "@Create date: Mar. 11th, 2018\n",
    "\n",
    "@description：reduce dimension of our dataset using pca, without normalizing categorical data.\n",
    "\n",
    "@Update date：Mar. 11th, 2018\n",
    "\n",
    "@Vindicator：  \n",
    "\n",
    "\"\"\"  \n",
    "\n",
    "\n",
    "    "
   ]
  },
  {
   "cell_type": "code",
   "execution_count": 512,
   "metadata": {
    "collapsed": true
   },
   "outputs": [],
   "source": [
    "import pandas as pd \n",
    "import numpy as np\n",
    "import matplotlib.pyplot as plt\n",
    "from sklearn.decomposition import PCA\n",
    "from sklearn.preprocessing import StandardScaler\n",
    "%matplotlib inline"
   ]
  },
  {
   "cell_type": "code",
   "execution_count": 513,
   "metadata": {
    "collapsed": true
   },
   "outputs": [],
   "source": [
    "def readcsv():\n",
    "    LARGE_FILE = \"loan_data_no_current_converted.csv\"\n",
    "    CHUNKSIZE = 100000 # processing 100,000 rows at a time\n",
    "    # Add encoding encoding = \"ISO-8859-1\", why?\n",
    "    reader = pd.read_csv(LARGE_FILE, chunksize=CHUNKSIZE, low_memory=False, encoding = \"ISO-8859-1\")\n",
    "    frames = []\n",
    "    for df in reader:\n",
    "        frames.append(df)\n",
    "    loan_data = pd.concat(frames)\n",
    "    return loan_data    "
   ]
  },
  {
   "cell_type": "code",
   "execution_count": 514,
   "metadata": {
    "collapsed": true
   },
   "outputs": [],
   "source": [
    "df = readcsv()"
   ]
  },
  {
   "cell_type": "code",
   "execution_count": 515,
   "metadata": {
    "collapsed": true
   },
   "outputs": [],
   "source": [
    "# Find All the converted categorical Data"
   ]
  },
  {
   "cell_type": "code",
   "execution_count": 516,
   "metadata": {
    "collapsed": true
   },
   "outputs": [],
   "source": [
    "categorical = ['grade', 'sub_grade', 'emp_length', 'purpose', 'title', 'application_type', 'hardship_flag', 'hardship_type', 'hardship_reason', \n",
    "              'hardship_status', 'hardship_loan_status', 'settlement_status', 'disbursement_method', 'home_ownership',\n",
    "              'pymnt_plan', 'debt_settlement_flag', 'title', 'initial_list_status', 'loan_status', 'verification_status',\n",
    "              'term' ]"
   ]
  },
  {
   "cell_type": "code",
   "execution_count": 517,
   "metadata": {
    "collapsed": false
   },
   "outputs": [
    {
     "name": "stdout",
     "output_type": "stream",
     "text": [
      "There are 21 categorical data in our dataset.\n"
     ]
    }
   ],
   "source": [
    "print(\"There are %d categorical data in our dataset.\" % len(categorical))"
   ]
  },
  {
   "cell_type": "markdown",
   "metadata": {},
   "source": [
    "# Normalize Income According to zipcode "
   ]
  },
  {
   "cell_type": "code",
   "execution_count": 518,
   "metadata": {
    "collapsed": true
   },
   "outputs": [],
   "source": [
    "# I have wrote a lot of code for this only to find out that I only need this simple function!!!\n",
    "def norm_inc_by_zip(zipcode, income):\n",
    "    '''\n",
    "        @description: Use on a column of data; output a dictionary that returns mean and average in each zipcode area\n",
    "        @zipcode： zipcode dataframe column\n",
    "        @income: income df column \n",
    "        @return:      return a dictionary\n",
    "    '''  \n",
    "    # I try to replace nan with 0 for income, and nan in zipcode for \"000xx\"\n",
    "    df[\"annual_inc\"].fillna(0)\n",
    "    df[\"zip_code\"].fillna(\"000xx\")\n",
    "    \n",
    "    mean_var = {}\n",
    "    for idx, value in zipcode.iteritems():\n",
    "        # calculate total income\n",
    "        if value in mean_var:\n",
    "            mean_var[value].append(income[idx])\n",
    "        else:\n",
    "            mean_var[value] = [income[idx]]\n",
    "\n",
    "    \n",
    "    #assert(len(zip_code) == len(mean_var))\n",
    "    # compute the average income in each zip_code area\n",
    "    for key, value in mean_var.items():\n",
    "        # if there only one element, we set their variance to 1. This way when normalize, it will have a 0 z-score.\n",
    "        if len(value) == 1:\n",
    "            #print(value[0])\n",
    "            mean_var[key] = [value[0], 1]\n",
    "        else:\n",
    "            mean_var[key] = [np.mean(value), np.std(value)]\n",
    "        \n",
    "    # first loop through every annual income by calculate its z score. (Income - mean_by_zipcode) / variance_by_zipcode\n",
    "    for idx, value in df[\"zip_code\"].iteritems():\n",
    "        #inc_colnum = df.columns.get_loc(\"annual_inc\")\n",
    "        col_num_inc = df[\"annual_inc\"]\n",
    "        mean, std = mean_var[value]\n",
    "        df.at[idx, \"annual_inc\"] = (df.at[idx, \"annual_inc\"] - mean) / std\n",
    "    print(\"Income is successfually normalized\")\n",
    "    return mean_var"
   ]
  },
  {
   "cell_type": "code",
   "execution_count": 519,
   "metadata": {
    "collapsed": false
   },
   "outputs": [
    {
     "name": "stdout",
     "output_type": "stream",
     "text": [
      "Income is successfually normalized\n"
     ]
    }
   ],
   "source": [
    "# normalize income\n",
    "dic = norm_inc_by_zip(df[\"zip_code\"], df[\"annual_inc\"])"
   ]
  },
  {
   "cell_type": "code",
   "execution_count": 520,
   "metadata": {
    "collapsed": false
   },
   "outputs": [
    {
     "name": "stdout",
     "output_type": "stream",
     "text": [
      "Mean, Variance of normalized income [-4.520037035772946e-15, 0.9999649508803221]\n"
     ]
    }
   ],
   "source": [
    "mv = [np.mean(df[\"annual_inc\"]), np.var(df[\"annual_inc\"])]\n",
    "print(\"Mean, Variance of normalized income\" , mv)"
   ]
  },
  {
   "cell_type": "markdown",
   "metadata": {},
   "source": [
    "# Normalize other Features"
   ]
  },
  {
   "cell_type": "code",
   "execution_count": 521,
   "metadata": {
    "collapsed": true
   },
   "outputs": [],
   "source": [
    "#1. Drop nan columns. Info. comes from /Amy's folder/data_meaning.xlsx\n",
    "# I disaggred on \"funded_amount\", those two are actually different\n",
    "drop_col = [\"id\", \"member_id\", \"url\", \"grade\", \"sub_grade\", \"addr_state\", \"funded_amnt_inv\", \"title\", \n",
    "            \"collection_recovery_fee\", \"collections_12_mths_ex_med\", \"next_pymnt_d\", \"recoveries\", \"total_pymnt\",  \n",
    "            \"total_pymnt_inv\", \"total_rec_int\", \"desc\"]\n",
    "drop_col2= [\"int_rate\", \"emp_title\", \"issue_d\",\"earliest_cr_line\", \"last_pymnt_d\", \n",
    "            \"next_pymnt_d\", \"last_credit_pull_d\", \"sec_app_earliest_cr_line \", \"debt_settlement_flag_date\",\n",
    "            \"hardship_start_date\", \"payment_plan_start_date\", \"hardship_end_date\", \"settlement_date\", \"zip_code\",\n",
    "            \"revol_util\", \"sec_app_earliest_cr_line\"]"
   ]
  },
  {
   "cell_type": "code",
   "execution_count": 522,
   "metadata": {
    "collapsed": true
   },
   "outputs": [],
   "source": [
    "# Convert Verification_status_joint\n",
    "for idx, i in df[\"verification_status_joint\"].iteritems():\n",
    "    if i == \"Verified\":\n",
    "        df.at[idx, \"verification_status_joint\"] = 1\n",
    "    elif i == \"Source Verified\":\n",
    "        df.at[idx, \"verification_status_joint\"] = 2\n",
    "    elif i == \"Not Verified\":\n",
    "        df.at[idx, \"verification_status_joint\"] = 3"
   ]
  },
  {
   "cell_type": "code",
   "execution_count": 523,
   "metadata": {
    "collapsed": true
   },
   "outputs": [],
   "source": [
    "# drop the observation that was missing for any field\n",
    "df.dropna(axis=0,how='all', inplace=True)\n",
    "df.dropna(inplace=True,axis=1,how='all')"
   ]
  },
  {
   "cell_type": "code",
   "execution_count": 524,
   "metadata": {
    "collapsed": false
   },
   "outputs": [
    {
     "data": {
      "text/plain": [
       "(891823, 142)"
      ]
     },
     "execution_count": 524,
     "metadata": {},
     "output_type": "execute_result"
    }
   ],
   "source": [
    "df.shape"
   ]
  },
  {
   "cell_type": "code",
   "execution_count": 525,
   "metadata": {
    "collapsed": true
   },
   "outputs": [],
   "source": [
    "# Drop drop_col, drop_col2\n",
    "df.drop(drop_col, inplace=True, axis=1, errors='ignore')\n",
    "df.drop(drop_col2, inplace=True, axis=1, errors='ignore')\n"
   ]
  },
  {
   "cell_type": "code",
   "execution_count": 526,
   "metadata": {
    "collapsed": false
   },
   "outputs": [
    {
     "data": {
      "text/plain": [
       "(891823, 115)"
      ]
     },
     "execution_count": 526,
     "metadata": {},
     "output_type": "execute_result"
    }
   ],
   "source": [
    "df.shape"
   ]
  },
  {
   "cell_type": "code",
   "execution_count": 527,
   "metadata": {
    "collapsed": true
   },
   "outputs": [],
   "source": [
    "df.fillna(0, inplace=True)"
   ]
  },
  {
   "cell_type": "code",
   "execution_count": 528,
   "metadata": {
    "collapsed": true
   },
   "outputs": [],
   "source": [
    "# Select features that is not in categorical data to normalize: categorial[], verification_status_joint, and annual_inc\n",
    "features= list(df.columns)\n",
    "features_need_norm = []\n",
    "categorical_features = []\n",
    "for i in features:\n",
    "    if i not in categorical and i != \"verification_status_joint\" and i != \"annual_inc\":\n",
    "        features_need_norm.append(i)\n",
    "    else:\n",
    "        categorical_features.append(i)\n",
    "\n"
   ]
  },
  {
   "cell_type": "code",
   "execution_count": 529,
   "metadata": {
    "collapsed": false
   },
   "outputs": [
    {
     "name": "stdout",
     "output_type": "stream",
     "text": [
      "There are 96 numerical features need normalization\n"
     ]
    }
   ],
   "source": [
    "print(\"There are %d numerical features need normalization\" %len(features_need_norm))"
   ]
  },
  {
   "cell_type": "code",
   "execution_count": 530,
   "metadata": {
    "collapsed": true
   },
   "outputs": [],
   "source": [
    "Y = df.loc[:,['loan_status']].values\n",
    "features.remove(\"loan_status\")\n",
    "categorical_features.remove('loan_status')"
   ]
  },
  {
   "cell_type": "code",
   "execution_count": 531,
   "metadata": {
    "collapsed": true
   },
   "outputs": [],
   "source": [
    "# We can not have loan_status in X, we want to check this, if it prints \"Warning\", we have a problem!!!\n",
    "for i in categorical_features:\n",
    "    if i == \"loan_status\":\n",
    "        print(\"Warning!\")\n",
    "for i in features_need_norm:\n",
    "    if i == \"loan_status\":\n",
    "        print(\"Warning!\")\n"
   ]
  },
  {
   "cell_type": "code",
   "execution_count": 532,
   "metadata": {
    "collapsed": false
   },
   "outputs": [
    {
     "data": {
      "text/plain": [
       "96"
      ]
     },
     "execution_count": 532,
     "metadata": {},
     "output_type": "execute_result"
    }
   ],
   "source": [
    "len(features_need_norm)"
   ]
  },
  {
   "cell_type": "code",
   "execution_count": 533,
   "metadata": {
    "collapsed": true
   },
   "outputs": [],
   "source": [
    "# Choice all features in features_need_norm list and normalize it and store it to normalized_features\n",
    "# There should be 96 features need normalization\n",
    "normalized_features = df.loc[:,features_need_norm].values\n",
    "normalized_features = StandardScaler().fit_transform(normalized_features)"
   ]
  },
  {
   "cell_type": "code",
   "execution_count": 534,
   "metadata": {
    "collapsed": true
   },
   "outputs": [],
   "source": [
    "X = normalized_features"
   ]
  },
  {
   "cell_type": "code",
   "execution_count": 535,
   "metadata": {
    "collapsed": true
   },
   "outputs": [],
   "source": [
    "# Add features to X normalized and categorical, concatenate \n",
    "# Elimiate loan_status from categorical_features, because we dont want \n",
    "X = np.concatenate((X, df.loc[:,categorical_features].values), axis=1)"
   ]
  },
  {
   "cell_type": "code",
   "execution_count": null,
   "metadata": {
    "collapsed": true
   },
   "outputs": [],
   "source": []
  },
  {
   "cell_type": "markdown",
   "metadata": {},
   "source": [
    "# Performing PCA Analysis\n",
    "    @Comments: \n",
    "    1. Compares to previous result when I try to normalize categorical data, without normalizing categorical data     works much better:\n",
    "    -- Previous PCA Result: \n",
    "    \n",
    "    The percentage of Variance retained by K =  30  :  0.761407465408\n",
    "    The percentage of Variance retained by K =  40  :  0.8371853523\n",
    "    The percentage of Variance retained by K =  50  :  0.894559622941\n",
    "    The percentage of Variance retained by K =  60  :  0.936803380943\n",
    "    The percentage of Variance retained by K =  70  :  0.964525576084\n",
    "    The percentage of Variance retained by K =  80  :  0.983301266634\n",
    "\n",
    "    -- New PCA Result:\n",
    "    The percentage of Variance retained by K =  30  :  0.809492859764\n",
    "    The percentage of Variance retained by K =  40  :  0.872392858617\n",
    "    The percentage of Variance retained by K =  50  :  0.919855783682\n",
    "    The percentage of Variance retained by K =  60  :  0.953081439718\n",
    "    The percentage of Variance retained by K =  70  :  0.975445377574\n",
    "    The percentage of Variance retained by K =  80  :  0.990303107118\n",
    "    The percentage of Variance retained by K =  90  :  0.997617699656"
   ]
  },
  {
   "cell_type": "code",
   "execution_count": 536,
   "metadata": {
    "collapsed": true
   },
   "outputs": [],
   "source": [
    "def pca_k(k):\n",
    "    '''\n",
    "    @ Function: Print the percentage variance retained by fisrt K components\n",
    "    @ Parameters: \n",
    "                k -- the number of principal components\n",
    "    @ Return: Void\n",
    "    '''\n",
    "    pca = PCA(n_components=k)\n",
    "    principalComponents = pca.fit_transform(X)\n",
    "    #principalDf = pd.DataFrame(data = principalComponents)\n",
    "    pca.explained_variance_ratio_\n",
    "    print(\"The percentage of Variance retained by K = \",k, \" : \", sum(pca.explained_variance_ratio_))\n",
    "    return pca"
   ]
  },
  {
   "cell_type": "code",
   "execution_count": 537,
   "metadata": {
    "collapsed": true
   },
   "outputs": [],
   "source": [
    "test_k = [30,40,50,60,70,80,90]"
   ]
  },
  {
   "cell_type": "code",
   "execution_count": 538,
   "metadata": {
    "collapsed": false
   },
   "outputs": [
    {
     "name": "stdout",
     "output_type": "stream",
     "text": [
      "The percentage of Variance retained by K =  30  :  0.809680646398\n",
      "The percentage of Variance retained by K =  40  :  0.872249575529\n",
      "The percentage of Variance retained by K =  50  :  0.919806402454\n",
      "The percentage of Variance retained by K =  60  :  0.953043647036\n",
      "The percentage of Variance retained by K =  70  :  0.975425636285\n",
      "The percentage of Variance retained by K =  80  :  0.990302341596\n",
      "The percentage of Variance retained by K =  90  :  0.997617699839\n"
     ]
    }
   ],
   "source": [
    "for k in test_k:\n",
    "    pca_k(k)"
   ]
  },
  {
   "cell_type": "code",
   "execution_count": 539,
   "metadata": {
    "collapsed": false
   },
   "outputs": [
    {
     "data": {
      "image/png": "[encoded data removed]",
      "text/plain": [
       "<matplotlib.figure.Figure at 0x1a46ad6d68>"
      ]
     },
     "metadata": {},
     "output_type": "display_data"
    }
   ],
   "source": [
    "# Show the result in a plt, as number of componets in\n",
    "pca = PCA().fit(X)\n",
    "plt.plot(np.cumsum(pca.explained_variance_ratio_))\n",
    "plt.xlabel('number of components')\n",
    "plt.ylabel('cumulative explained variance');"
   ]
  },
  {
   "cell_type": "markdown",
   "metadata": {},
   "source": [
    "# Run Logistic Regression on PCA Variables:\n",
    "-- Now we choice k = 80 compoents to fit the model using logistic regression"
   ]
  },
  {
   "cell_type": "code",
   "execution_count": 540,
   "metadata": {
    "collapsed": true
   },
   "outputs": [],
   "source": [
    "class log_reg():\n",
    "    # Evaluate the model by splitting into train and test sets\n",
    "    def split(x,y,rand=0):\n",
    "        \n",
    "        y = np.ravel(y)\n",
    "        x_train, x_test, y_train, y_test = train_test_split(x,y, test_size=0.25,random_state=rand)\n",
    "        \n",
    "        return x_train, x_test, y_train, y_test \n",
    "    #we need to add validation dataset here\n",
    "    \n",
    "    # Find binary column method one\n",
    "    def bool_cols(df,isbool=True):\n",
    "        bool_cols=[]\n",
    "        for col in df:\n",
    "            if isbool==True:\n",
    "                if df[col].dropna().value_counts().index.isin([0,1]).all():\n",
    "                    bool_cols.append(col)\n",
    "            else:\n",
    "                if not df[col].dropna().value_counts().index.isin([0,1]).all():\n",
    "                    bool_cols.append(col)\n",
    "        return bool_cols\n",
    "    # this above step is to facilitate normalization later\n",
    "    # method two\n",
    "    def not_bi(x):\n",
    "        not_bi=[]\n",
    "        for i in list(x):\n",
    "            u=x[i].unique()\n",
    "            if not (0 in u and 1 in u and len(u)==2): #if not binary\n",
    "                not_bi.append(i)\n",
    "        return not_bi\n",
    "    \n",
    "    def reg(x_train, y_train):\n",
    "           \n",
    "        model = LogisticRegression(penalty='l2',class_weight='balanced',solver='sag',n_jobs=-1)\n",
    "        \n",
    "        \"\"\"\n",
    "        Why we need standardize?\n",
    "        \n",
    "        Note that ‘sag’ and ‘saga’ fast convergence is only guaranteed on features \n",
    "        with approximately the same scale. You can preprocess the data with \n",
    "        a scaler from sklearn.preprocessing.\n",
    "        \"\"\"\n",
    "        \n",
    "        model = model.fit(x_train, y_train)\n",
    "        \n",
    "        return model\n",
    "    \n",
    "    def ModelValuation(x_test,y_test,model):\n",
    "        \n",
    "        probs = model.predict_proba(x_test)\n",
    "        fpr, tpr, thresholds = metrics.roc_curve(y_test, probs[:, 1])\n",
    "        \n",
    "        plt.figure(1)\n",
    "        plt.plot(fpr, tpr, label='LogisticRegression')\n",
    "        plt.xlabel('False positive rate')\n",
    "        plt.ylabel('True positive rate')\n",
    "        plt.title('ROC curve')\n",
    "        plt.legend(loc='best')\n",
    "        plt.show()\n",
    "        \n",
    "        print(\"Area Under the Curve (AUC) from prediction score is %f\" % metrics.roc_auc_score(y_test, probs[:, 1]))\n",
    "    \n",
    "        return None  \n",
    "    \n",
    "    def y_pred(x_test,threshold=0.5):\n",
    "        \n",
    "        if threshold == 0.5:\n",
    "            y_predicted = model.predict(x_test)\n",
    "        else:\n",
    "            probs = model.predict_proba(x_test)\n",
    "            y_predicted = np.array(probs[:,1] >= threshold).astype(int)\n",
    "        \n",
    "        return y_predicted    \n",
    "    \n",
    "    def GetScores(y_test,y_predicted):\n",
    "        #G means score \n",
    "        CM = metrics.confusion_matrix(y_test, y_predicted)\n",
    "        TN = CM[0,0]\n",
    "        FN = CM[1,0]\n",
    "        TP = CM[1,1]\n",
    "        FP = CM[0,1]\n",
    "        \n",
    "        sensitivity = float(TP)/float(TP+FN)\n",
    "        specificity = float(TN)/float(TN+FP)\n",
    "        G = np.sqrt(sensitivity*specificity)\n",
    "        print(\"G score is %f\" % G)\n",
    "        print(\"Specificity is %f\" % specificity)\n",
    "        \n",
    "        # Generate and display different evaluation metrics\n",
    "        print(\"Mean accuracy score is %f\" % metrics.accuracy_score(y_test, y_predicted))\n",
    "          \n",
    "        print(\"Confusion Marix\")\n",
    "        print(CM)\n",
    "        \n",
    "        return specificity , G\n",
    "        \n",
    "    # Convenience function to plot confusion matrix\n",
    "    def confusion(y_test,y_predicted,title):\n",
    "        \n",
    "        # Define names for the three Iris types\n",
    "        names = ['Default', 'Not Default']\n",
    "    \n",
    "        # Make a 2D histogram from the test and result arrays\n",
    "        pts, xe, ye = np.histogram2d(y_test, y_predicted, bins=2)\n",
    "    \n",
    "        # For simplicity we create a new DataFrame\n",
    "        pd_pts = pd.DataFrame(pts.astype(int), index=names, columns=names )\n",
    "        \n",
    "        # Display heatmap and add decorations\n",
    "        hm = sns.heatmap(pd_pts, annot=True, fmt=\"d\")\n",
    "        hm.axes.set_title(title)\n",
    "        \n",
    "        return None\n",
    "            \n",
    "    def find_threshold(x_test,y_test):\n",
    "    \n",
    "        probs = model.predict_proba(x_test)\n",
    "        fpr, tpr, thresholds = metrics.roc_curve(y_test, probs[:, 1])\n",
    "        \n",
    "        sensitivity = tpr\n",
    "        specificity = 1 - fpr\n",
    "        G = np.sqrt(sensitivity*specificity)\n",
    "        \n",
    "        plt.figure(2)\n",
    "        plt.plot(thresholds,G)\n",
    "        plt.xlabel('Thresholds')\n",
    "        plt.ylabel('G-Scores')\n",
    "        plt.title('G-Scores with different thresholds')\n",
    "        plt.show()\n",
    "        \n",
    "        \n",
    "        print(\"The highest G score is %f with threshold at %f\" % (np.amax(G),thresholds[np.argmax(G)]) )\n",
    "        \n",
    "        return thresholds[np.argmax(G)]"
   ]
  },
  {
   "cell_type": "code",
   "execution_count": 541,
   "metadata": {
    "collapsed": false
   },
   "outputs": [
    {
     "name": "stdout",
     "output_type": "stream",
     "text": [
      "The percentage of Variance retained by K =  80  :  0.990303137314\n"
     ]
    }
   ],
   "source": [
    "pca_k_80 = pca_k(80)"
   ]
  },
  {
   "cell_type": "code",
   "execution_count": 542,
   "metadata": {
    "collapsed": true
   },
   "outputs": [],
   "source": [
    "from sklearn import linear_model, decomposition\n",
    "from sklearn.pipeline import Pipeline\n",
    "from sklearn.model_selection import GridSearchCV\n",
    "\n",
    "logistic = linear_model.LogisticRegression()"
   ]
  },
  {
   "cell_type": "code",
   "execution_count": 543,
   "metadata": {
    "collapsed": true
   },
   "outputs": [],
   "source": [
    "logistic = linear_model.LogisticRegression()\n",
    "\n",
    "\n",
    "pca = decomposition.PCA()\n",
    "pipe = Pipeline(steps=[('pca', pca), ('logistic', logistic)])"
   ]
  },
  {
   "cell_type": "code",
   "execution_count": 544,
   "metadata": {
    "collapsed": true
   },
   "outputs": [],
   "source": [
    "# Let's test our result previous result, Previous result set Y to binary number 1,2.\n",
    "'''\n",
    "    elif i == \"Default\":\n",
    "        loan_data.at[idx, \"loan_status\"] = 7\n",
    "    elif i == \"Charged Off\":\n",
    "        loan_data.at[idx, \"loan_status\"] = 8\n",
    "'''\n",
    "Y = list(Y.reshape(len(Y)))\n",
    "for i in range(len(Y)):\n",
    "    if Y[i] == 7 or Y[i] ==8:\n",
    "        Y[i] = 1\n",
    "    else:\n",
    "        Y[i] = 0"
   ]
  },
  {
   "cell_type": "code",
   "execution_count": 545,
   "metadata": {
    "collapsed": false
   },
   "outputs": [
    {
     "data": {
      "text/plain": [
       "Text(0,0.5,'explained_variance_')"
      ]
     },
     "execution_count": 545,
     "metadata": {},
     "output_type": "execute_result"
    },
    {
     "data": {
      "image/png": "[encoded data removed]",
      "text/plain": [
       "<matplotlib.figure.Figure at 0x1a45dabc88>"
      ]
     },
     "metadata": {},
     "output_type": "display_data"
    }
   ],
   "source": [
    "# Plot the PCA spectrum\n",
    "pca.fit(X)\n",
    "\n",
    "plt.figure(1, figsize=(4, 3))\n",
    "plt.clf()\n",
    "plt.axes([.2, .2, .7, .7])\n",
    "plt.plot(pca.explained_variance_, linewidth=2)\n",
    "plt.axis('tight')\n",
    "plt.xlabel('n_components')\n",
    "plt.ylabel('explained_variance_')"
   ]
  },
  {
   "cell_type": "code",
   "execution_count": 546,
   "metadata": {
    "collapsed": true
   },
   "outputs": [],
   "source": [
    "# apply K = 80 pca to original dataset\n",
    "X_transformed_pca = pca_k_80.fit_transform(X)"
   ]
  },
  {
   "cell_type": "code",
   "execution_count": 547,
   "metadata": {
    "collapsed": true
   },
   "outputs": [],
   "source": [
    "# split train test set uing X_transformed_pca\n",
    "x_train, x_test, y_train, y_test = log_reg.split(X_transformed_pca,Y,rand=None)"
   ]
  },
  {
   "cell_type": "code",
   "execution_count": 548,
   "metadata": {
    "collapsed": false
   },
   "outputs": [
    {
     "name": "stderr",
     "output_type": "stream",
     "text": [
      "/Users/zhejianpeng/anaconda3/lib/python3.6/site-packages/sklearn/linear_model/sag.py:326: ConvergenceWarning: The max_iter was reached which means the coef_ did not converge\n",
      "  \"the coef_ did not converge\", ConvergenceWarning)\n"
     ]
    }
   ],
   "source": [
    "model = log_reg.reg(x_train,y_train)"
   ]
  },
  {
   "cell_type": "code",
   "execution_count": 549,
   "metadata": {
    "collapsed": false
   },
   "outputs": [
    {
     "data": {
      "image/png": "[encoded data removed]",
      "text/plain": [
       "<matplotlib.figure.Figure at 0x1a45c07da0>"
      ]
     },
     "metadata": {},
     "output_type": "display_data"
    },
    {
     "name": "stdout",
     "output_type": "stream",
     "text": [
      "Area Under the Curve (AUC) from prediction score is 0.997886\n"
     ]
    }
   ],
   "source": [
    "log_reg.ModelValuation(x_test,y_test,model)"
   ]
  },
  {
   "cell_type": "code",
   "execution_count": 550,
   "metadata": {
    "collapsed": true
   },
   "outputs": [],
   "source": [
    "y_predicted = log_reg.y_pred(x_test,threshold=0.5)"
   ]
  },
  {
   "cell_type": "code",
   "execution_count": 551,
   "metadata": {
    "collapsed": false
   },
   "outputs": [
    {
     "name": "stdout",
     "output_type": "stream",
     "text": [
      "G score is 0.983358\n",
      "Specificity is 0.995939\n",
      "Mean accuracy score is 0.991012\n",
      "Confusion Marix\n",
      "[[178292    727]\n",
      " [  1277  42660]]\n"
     ]
    },
    {
     "data": {
      "image/png": "[encoded data removed]",
      "text/plain": [
       "<matplotlib.figure.Figure at 0x1a229a7f98>"
      ]
     },
     "metadata": {},
     "output_type": "display_data"
    }
   ],
   "source": [
    "spec , G = log_reg.GetScores(y_test,y_predicted)\n",
    "log_reg.confusion(y_test,y_predicted,'Default Confusion Matrix')"
   ]
  },
  {
   "cell_type": "code",
   "execution_count": 552,
   "metadata": {
    "collapsed": false
   },
   "outputs": [
    {
     "data": {
      "text/plain": [
       "(222956,)"
      ]
     },
     "execution_count": 552,
     "metadata": {},
     "output_type": "execute_result"
    }
   ],
   "source": [
    "y_test.shape"
   ]
  },
  {
   "cell_type": "code",
   "execution_count": null,
   "metadata": {
    "collapsed": true
   },
   "outputs": [],
   "source": []
  }
 ],
 "metadata": {
  "kernelspec": {
   "display_name": "Python 2",
   "language": "python",
   "name": "python2"
  },
  "language_info": {
   "codemirror_mode": {
    "name": "ipython",
    "version": 2
   },
   "file_extension": ".py",
   "mimetype": "text/x-python",
   "name": "python",
   "nbconvert_exporter": "python",
   "pygments_lexer": "ipython2",
   "version": "2.7.13"
  }
 },
 "nbformat": 4,
 "nbformat_minor": 2
}
