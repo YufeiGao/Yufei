{
 "cells": [
  {
   "cell_type": "code",
   "execution_count": 1,
   "metadata": {
    "collapsed": true
   },
   "outputs": [],
   "source": [
    "%matplotlib inline\n",
    "import os\n",
    "import pandas as pd\n",
    "from matplotlib import pyplot as plt\n",
    "import numpy as np\n",
    "import math\n",
    "#from termcolor import colored\n",
    "from numbers import Number\n",
    "from scipy import stats\n",
    "from pandas import plotting"
   ]
  },
  {
   "cell_type": "code",
   "execution_count": 4,
   "metadata": {
    "collapsed": true
   },
   "outputs": [],
   "source": [
    "# when output data drop last two rows!!"
   ]
  },
  {
   "cell_type": "code",
   "execution_count": 2,
   "metadata": {
    "collapsed": true
   },
   "outputs": [],
   "source": [
    "LARGE_FILE = \"../data_with_2017Q4_no_current.csv\"\n",
    "CHUNKSIZE = 100000 # processing 100,000 rows at a time\n",
    "reader = pd.read_csv(LARGE_FILE, chunksize=CHUNKSIZE, low_memory=False)\n",
    "frames = []"
   ]
  },
  {
   "cell_type": "code",
   "execution_count": 3,
   "metadata": {
    "collapsed": true
   },
   "outputs": [],
   "source": [
    "for df in reader:\n",
    "    frames.append(df)\n",
    "loan_data = pd.concat(frames)"
   ]
  },
  {
   "cell_type": "markdown",
   "metadata": {},
   "source": [
    "# Grade"
   ]
  },
  {
   "cell_type": "code",
   "execution_count": 5,
   "metadata": {},
   "outputs": [
    {
     "name": "stdout",
     "output_type": "stream",
     "text": [
      "number of category:  7\n"
     ]
    }
   ],
   "source": [
    "dic = {}\n",
    "for i in loan_data[\"grade\"]:\n",
    "    if i in dic:\n",
    "        dic[i] +=1\n",
    "    else:\n",
    "        dic[i] =1\n",
    "print(\"number of category: \", len(dic))"
   ]
  },
  {
   "cell_type": "code",
   "execution_count": 6,
   "metadata": {},
   "outputs": [
    {
     "data": {
      "text/plain": [
       "{'A': 142109,\n",
       " 'B': 253675,\n",
       " 'C': 250071,\n",
       " 'D': 141871,\n",
       " 'E': 71122,\n",
       " 'F': 25856,\n",
       " 'G': 7119}"
      ]
     },
     "execution_count": 6,
     "metadata": {},
     "output_type": "execute_result"
    }
   ],
   "source": [
    "dic"
   ]
  },
  {
   "cell_type": "code",
   "execution_count": 7,
   "metadata": {
    "collapsed": true
   },
   "outputs": [],
   "source": [
    "loan_data[\"grade\"].fillna(0, inplace=True)"
   ]
  },
  {
   "cell_type": "code",
   "execution_count": 8,
   "metadata": {
    "collapsed": true
   },
   "outputs": [],
   "source": [
    "for idx, i in loan_data[\"grade\"].iteritems():\n",
    "    if i == \"A\":\n",
    "        loan_data.at[idx, \"grade\"] = 1\n",
    "    elif i == \"B\":\n",
    "        loan_data.at[idx, \"grade\"] = 2\n",
    "    elif i == \"C\":\n",
    "        loan_data.at[idx, \"grade\"] = 3\n",
    "    elif i == \"D\":\n",
    "        loan_data.at[idx, \"grade\"] = 4\n",
    "    elif i == \"E\":\n",
    "        loan_data.at[idx, \"grade\"] = 5\n",
    "    elif i == \"F\":\n",
    "        loan_data.at[idx, \"grade\"] = 6\n",
    "    elif i == \"G\":\n",
    "        loan_data.at[idx, \"grade\"] = 7\n",
    "    "
   ]
  },
  {
   "cell_type": "markdown",
   "metadata": {},
   "source": [
    "# SubGrade"
   ]
  },
  {
   "cell_type": "code",
   "execution_count": 9,
   "metadata": {},
   "outputs": [
    {
     "name": "stdout",
     "output_type": "stream",
     "text": [
      "number of category:  35\n"
     ]
    }
   ],
   "source": [
    "dic = {}\n",
    "for i in loan_data[\"sub_grade\"]:\n",
    "    if i in dic:\n",
    "        dic[i] +=1\n",
    "    else:\n",
    "        dic[i] =1\n",
    "print(\"number of category: \", len(dic))"
   ]
  },
  {
   "cell_type": "code",
   "execution_count": 10,
   "metadata": {},
   "outputs": [
    {
     "data": {
      "text/plain": [
       "{'A1': 23476,\n",
       " 'A2': 21765,\n",
       " 'A3': 22847,\n",
       " 'A4': 33467,\n",
       " 'A5': 40554,\n",
       " 'B1': 43600,\n",
       " 'B2': 47845,\n",
       " 'B3': 54889,\n",
       " 'B4': 55086,\n",
       " 'B5': 52255,\n",
       " 'C1': 55204,\n",
       " 'C2': 52488,\n",
       " 'C3': 49438,\n",
       " 'C4': 48873,\n",
       " 'C5': 44068,\n",
       " 'D1': 36011,\n",
       " 'D2': 31370,\n",
       " 'D3': 27418,\n",
       " 'D4': 25678,\n",
       " 'D5': 21394,\n",
       " 'E1': 18208,\n",
       " 'E2': 16482,\n",
       " 'E3': 13928,\n",
       " 'E4': 11961,\n",
       " 'E5': 10543,\n",
       " 'F1': 7934,\n",
       " 'F2': 5886,\n",
       " 'F3': 4949,\n",
       " 'F4': 3944,\n",
       " 'F5': 3143,\n",
       " 'G1': 2301,\n",
       " 'G2': 1735,\n",
       " 'G3': 1255,\n",
       " 'G4': 989,\n",
       " 'G5': 839}"
      ]
     },
     "execution_count": 10,
     "metadata": {},
     "output_type": "execute_result"
    }
   ],
   "source": [
    "dic"
   ]
  },
  {
   "cell_type": "code",
   "execution_count": 11,
   "metadata": {
    "collapsed": true
   },
   "outputs": [],
   "source": [
    "loan_data[\"sub_grade\"].fillna(0, inplace=True)"
   ]
  },
  {
   "cell_type": "code",
   "execution_count": 12,
   "metadata": {
    "collapsed": true
   },
   "outputs": [],
   "source": [
    "for idx, i in loan_data[\"sub_grade\"].iteritems():\n",
    "    if i == \"A1\":\n",
    "        loan_data.at[idx, \"sub_grade\"] = 1\n",
    "    elif i == \"A2\":\n",
    "        loan_data.at[idx, \"sub_grade\"] = 2\n",
    "    elif i == \"A3\":\n",
    "        loan_data.at[idx, \"sub_grade\"] = 3\n",
    "    elif i == \"A4\":\n",
    "        loan_data.at[idx, \"sub_grade\"] = 4\n",
    "    elif i == \"A5\":\n",
    "        loan_data.at[idx, \"sub_grade\"] = 5\n",
    "    elif i == \"B1\":\n",
    "        loan_data.at[idx, \"sub_grade\"] = 6\n",
    "    elif i == \"B2\":\n",
    "        loan_data.at[idx, \"sub_grade\"] = 7\n",
    "    elif i == \"B3\":\n",
    "        loan_data.at[idx, \"sub_grade\"] = 8\n",
    "    elif i == \"B4\":\n",
    "        loan_data.at[idx, \"sub_grade\"] = 9\n",
    "    elif i == \"B5\":\n",
    "        loan_data.at[idx, \"sub_grade\"] = 10\n",
    "    elif i == \"C1\":\n",
    "        loan_data.at[idx, \"sub_grade\"] = 11\n",
    "    elif i == \"C2\":\n",
    "        loan_data.at[idx, \"sub_grade\"] = 12\n",
    "    elif i == \"C3\":\n",
    "        loan_data.at[idx, \"sub_grade\"] = 13\n",
    "    elif i == \"C4\":\n",
    "        loan_data.at[idx, \"sub_grade\"] = 14\n",
    "    elif i == \"C5\":\n",
    "        loan_data.at[idx, \"sub_grade\"] = 15\n",
    "    elif i == \"D1\":     \n",
    "        loan_data.at[idx, \"sub_grade\"] = 16\n",
    "    elif i == \"D2\":     \n",
    "        loan_data.at[idx, \"sub_grade\"] = 17\n",
    "    elif i == \"D3\":     \n",
    "        loan_data.at[idx, \"sub_grade\"] = 18\n",
    "    elif i == \"D4\":     \n",
    "        loan_data.at[idx, \"sub_grade\"] = 19\n",
    "    elif i == \"D5\":     \n",
    "        loan_data.at[idx, \"sub_grade\"] = 20\n",
    "    elif i == \"E1\":     \n",
    "        loan_data.at[idx, \"sub_grade\"] = 21\n",
    "    elif i == \"E2\":     \n",
    "        loan_data.at[idx, \"sub_grade\"] = 22\n",
    "    elif i == \"E3\":     \n",
    "        loan_data.at[idx, \"sub_grade\"] = 23\n",
    "    elif i == \"E4\":     \n",
    "        loan_data.at[idx, \"sub_grade\"] = 24\n",
    "    elif i == \"E5\":     \n",
    "        loan_data.at[idx, \"sub_grade\"] = 25\n",
    "    elif i == \"F1\":     \n",
    "        loan_data.at[idx, \"sub_grade\"] = 26\n",
    "    elif i == \"F2\":     \n",
    "        loan_data.at[idx, \"sub_grade\"] = 27\n",
    "    elif i == \"F3\":     \n",
    "        loan_data.at[idx, \"sub_grade\"] = 28\n",
    "    elif i == \"F4\":     \n",
    "        loan_data.at[idx, \"sub_grade\"] = 29\n",
    "    elif i == \"F5\":     \n",
    "        loan_data.at[idx, \"sub_grade\"] = 30\n",
    "    elif i == \"G1\":     \n",
    "        loan_data.at[idx, \"sub_grade\"] = 31\n",
    "    elif i == \"G2\":     \n",
    "        loan_data.at[idx, \"sub_grade\"] = 32\n",
    "    elif i == \"G3\":     \n",
    "        loan_data.at[idx, \"sub_grade\"] = 33\n",
    "    elif i == \"G4\":\n",
    "        loan_data.at[idx, \"sub_grade\"] = 34\n",
    "    elif i == \"G5\":     \n",
    "        loan_data.at[idx, \"sub_grade\"] = 35"
   ]
  },
  {
   "cell_type": "markdown",
   "metadata": {},
   "source": [
    "# emp_length adjustment"
   ]
  },
  {
   "cell_type": "code",
   "execution_count": 13,
   "metadata": {
    "collapsed": true
   },
   "outputs": [],
   "source": [
    "loan_data[\"emp_length\"].fillna(0, inplace=True)"
   ]
  },
  {
   "cell_type": "code",
   "execution_count": 14,
   "metadata": {},
   "outputs": [
    {
     "name": "stdout",
     "output_type": "stream",
     "text": [
      "number of category:  12\n"
     ]
    }
   ],
   "source": [
    "dic = {}\n",
    "for i in loan_data[\"emp_length\"]:\n",
    "    if i in dic:\n",
    "        dic[i] +=1\n",
    "    else:\n",
    "        dic[i] =1\n",
    "print(\"number of category: \", len(dic))"
   ]
  },
  {
   "cell_type": "code",
   "execution_count": 15,
   "metadata": {},
   "outputs": [
    {
     "data": {
      "text/plain": [
       "{'1 year': 58752,\n",
       " '10+ years': 289873,\n",
       " '2 years': 80600,\n",
       " '3 years': 71154,\n",
       " '4 years': 53428,\n",
       " '5 years': 56794,\n",
       " '6 years': 43594,\n",
       " '7 years': 42346,\n",
       " '8 years': 42205,\n",
       " '9 years': 34705,\n",
       " '< 1 year': 71164,\n",
       " 'n/a': 47208}"
      ]
     },
     "execution_count": 15,
     "metadata": {},
     "output_type": "execute_result"
    }
   ],
   "source": [
    "dic"
   ]
  },
  {
   "cell_type": "code",
   "execution_count": 16,
   "metadata": {
    "collapsed": true
   },
   "outputs": [],
   "source": [
    "for idx, i in loan_data[\"emp_length\"].iteritems():\n",
    "    if i == '< 1 year':\n",
    "        loan_data.at[idx, \"emp_length\"] = 0.5\n",
    "    elif i == \"1 year\":\n",
    "        loan_data.at[idx, \"emp_length\"] = 1\n",
    "    elif i == '2 years':\n",
    "        loan_data.at[idx, \"emp_length\"] = 2\n",
    "    elif i == '3 years':\n",
    "        loan_data.at[idx, \"emp_length\"] = 3\n",
    "    elif i == '4 years':\n",
    "        loan_data.at[idx, \"emp_length\"] = 4\n",
    "    elif i == \"5 years\":\n",
    "        loan_data.at[idx, \"emp_length\"] = 5\n",
    "    elif i == \"6 years\":\n",
    "        loan_data.at[idx, \"emp_length\"] = 6\n",
    "    elif i == \"7 years\":\n",
    "        loan_data.at[idx, \"emp_length\"] = 7\n",
    "    elif i == '8 years':\n",
    "        loan_data.at[idx, \"emp_length\"] = 8\n",
    "    elif i == '9 years':\n",
    "        loan_data.at[idx, \"emp_length\"] = 9\n",
    "    elif i == '10+ years':\n",
    "        loan_data.at[idx, \"emp_length\"] = 10\n",
    "    elif i == 'n/a':\n",
    "        loan_data.at[idx, \"emp_length\"] = 0"
   ]
  },
  {
   "cell_type": "markdown",
   "metadata": {},
   "source": [
    "# purpose _ adjustment"
   ]
  },
  {
   "cell_type": "code",
   "execution_count": 17,
   "metadata": {},
   "outputs": [
    {
     "name": "stdout",
     "output_type": "stream",
     "text": [
      "number of category:  14\n"
     ]
    }
   ],
   "source": [
    "dic = {}\n",
    "for i in loan_data[\"purpose\"]:\n",
    "    if i in dic:\n",
    "        dic[i] +=1\n",
    "    else:\n",
    "        dic[i] =1\n",
    "print(\"number of category: \", len(dic))"
   ]
  },
  {
   "cell_type": "code",
   "execution_count": 18,
   "metadata": {},
   "outputs": [
    {
     "data": {
      "text/plain": [
       "{'car': 9659,\n",
       " 'credit_card': 190452,\n",
       " 'debt_consolidation': 527006,\n",
       " 'educational': 423,\n",
       " 'home_improvement': 55737,\n",
       " 'house': 4553,\n",
       " 'major_purchase': 19179,\n",
       " 'medical': 9698,\n",
       " 'moving': 6321,\n",
       " 'other': 48926,\n",
       " 'renewable_energy': 664,\n",
       " 'small_business': 11254,\n",
       " 'vacation': 5619,\n",
       " 'wedding': 2332}"
      ]
     },
     "execution_count": 18,
     "metadata": {},
     "output_type": "execute_result"
    }
   ],
   "source": [
    "dic"
   ]
  },
  {
   "cell_type": "code",
   "execution_count": 19,
   "metadata": {
    "collapsed": true
   },
   "outputs": [],
   "source": [
    "loan_data[\"purpose\"].fillna(0, inplace=True)"
   ]
  },
  {
   "cell_type": "code",
   "execution_count": 20,
   "metadata": {
    "collapsed": true
   },
   "outputs": [],
   "source": [
    "for idx, i in loan_data[\"purpose\"].iteritems():\n",
    "    if i == \"credit_card\":\n",
    "        loan_data.at[idx, \"purpose\"] = 1\n",
    "    elif i == \"car\":\n",
    "        loan_data.at[idx, \"purpose\"] = 2\n",
    "    elif i == \"small_business\":\n",
    "        loan_data.at[idx, \"purpose\"] = 3\n",
    "    elif i == \"other\":\n",
    "        loan_data.at[idx, \"purpose\"] = 4\n",
    "    elif i == \"wedding\":\n",
    "        loan_data.at[idx, \"purpose\"] = 5\n",
    "    elif i == \"debt_consolidation\":\n",
    "        loan_data.at[idx, \"purpose\"] = 6\n",
    "    elif i == \"home_improvement\":\n",
    "        loan_data.at[idx, \"purpose\"] = 7\n",
    "    elif i == \"major_purchase\":\n",
    "        loan_data.at[idx, \"purpose\"] = 8\n",
    "    elif i == \"medical\":\n",
    "        loan_data.at[idx, \"purpose\"] = 9\n",
    "    elif i == \"moving\":\n",
    "        loan_data.at[idx, \"purpose\"] = 10\n",
    "    elif i == \"vacation\":\n",
    "        loan_data.at[idx, \"purpose\"] = 11\n",
    "    elif i == \"house\":\n",
    "        loan_data.at[idx, \"purpose\"] = 12\n",
    "    elif i == \"renewable_energy\":\n",
    "        loan_data.at[idx, \"purpose\"] = 13\n",
    "    elif i == \"educational\":\n",
    "        loan_data.at[idx, \"purpose\"] = 14"
   ]
  },
  {
   "cell_type": "markdown",
   "metadata": {},
   "source": [
    "# title_adjustment_PASSED"
   ]
  },
  {
   "cell_type": "code",
   "execution_count": 21,
   "metadata": {},
   "outputs": [
    {
     "name": "stdout",
     "output_type": "stream",
     "text": [
      "number of category:  61959\n"
     ]
    }
   ],
   "source": [
    "dic={}\n",
    "for i in loan_data[\"title\"]:\n",
    "    if i in dic:\n",
    "        dic[i]+=1\n",
    "    else:\n",
    "        dic[i]=1\n",
    "print(\"number of category: \", len(dic))"
   ]
  },
  {
   "cell_type": "markdown",
   "metadata": {},
   "source": [
    "# application_type adjustment"
   ]
  },
  {
   "cell_type": "code",
   "execution_count": 22,
   "metadata": {},
   "outputs": [
    {
     "name": "stdout",
     "output_type": "stream",
     "text": [
      "number of category:  2\n"
     ]
    }
   ],
   "source": [
    "dic={}\n",
    "for i in loan_data[\"application_type\"]:\n",
    "    if i in dic:\n",
    "        dic[i]+=1\n",
    "    else:\n",
    "        dic[i]=1\n",
    "print(\"number of category: \", len(dic))"
   ]
  },
  {
   "cell_type": "code",
   "execution_count": 23,
   "metadata": {},
   "outputs": [
    {
     "data": {
      "text/plain": [
       "{'Individual': 885681, 'Joint App': 6142}"
      ]
     },
     "execution_count": 23,
     "metadata": {},
     "output_type": "execute_result"
    }
   ],
   "source": [
    "dic"
   ]
  },
  {
   "cell_type": "code",
   "execution_count": 24,
   "metadata": {
    "collapsed": true
   },
   "outputs": [],
   "source": [
    "loan_data[\"application_type\"].fillna(0, inplace=True)"
   ]
  },
  {
   "cell_type": "code",
   "execution_count": 26,
   "metadata": {
    "collapsed": true
   },
   "outputs": [],
   "source": [
    "for idx, i in loan_data[\"application_type\"].iteritems():\n",
    "    if i ==\"Individual\":\n",
    "        loan_data.at[idx,\"application_type\"]=1\n",
    "    elif i==\"Joint App\":\n",
    "        loan_data.at[idx,\"application_type\"]=2"
   ]
  },
  {
   "cell_type": "markdown",
   "metadata": {},
   "source": [
    "# hardship_flag adjustment"
   ]
  },
  {
   "cell_type": "code",
   "execution_count": 27,
   "metadata": {},
   "outputs": [
    {
     "name": "stdout",
     "output_type": "stream",
     "text": [
      "number of category:  2\n"
     ]
    }
   ],
   "source": [
    "dic={}\n",
    "for i in loan_data[\"hardship_flag\"]:\n",
    "    if i in dic:\n",
    "        dic[i]+=1\n",
    "    else:\n",
    "        dic[i]=1\n",
    "print(\"number of category: \", len(dic))"
   ]
  },
  {
   "cell_type": "code",
   "execution_count": 28,
   "metadata": {},
   "outputs": [
    {
     "data": {
      "text/plain": [
       "{'N': 890916, 'Y': 907}"
      ]
     },
     "execution_count": 28,
     "metadata": {},
     "output_type": "execute_result"
    }
   ],
   "source": [
    "dic"
   ]
  },
  {
   "cell_type": "code",
   "execution_count": 29,
   "metadata": {
    "collapsed": true
   },
   "outputs": [],
   "source": [
    "loan_data[\"hardship_flag\"].fillna(0,inplace=True)"
   ]
  },
  {
   "cell_type": "code",
   "execution_count": 30,
   "metadata": {
    "collapsed": true
   },
   "outputs": [],
   "source": [
    "for idx, i in loan_data[\"hardship_flag\"].iteritems():\n",
    "    if i == \"N\":\n",
    "        loan_data.at[idx,\"hardship_flag\"] = 2\n",
    "    elif i == \"Y\":\n",
    "        loan_data.at[idx,\"hardship_flag\"] = 1\n",
    "    "
   ]
  },
  {
   "cell_type": "markdown",
   "metadata": {},
   "source": [
    "# hardship_type adjustment"
   ]
  },
  {
   "cell_type": "code",
   "execution_count": 31,
   "metadata": {},
   "outputs": [
    {
     "name": "stdout",
     "output_type": "stream",
     "text": [
      "number of category:  2\n"
     ]
    }
   ],
   "source": [
    "dic={}\n",
    "for i in loan_data[\"hardship_type\"]:\n",
    "    if i in dic:\n",
    "        dic[i]+=1\n",
    "    else:\n",
    "        dic[i]=1\n",
    "print(\"number of category: \", len(dic))"
   ]
  },
  {
   "cell_type": "code",
   "execution_count": 32,
   "metadata": {},
   "outputs": [
    {
     "data": {
      "text/plain": [
       "{'INTEREST ONLY-3 MONTHS DEFERRAL': 3121, nan: 888702}"
      ]
     },
     "execution_count": 32,
     "metadata": {},
     "output_type": "execute_result"
    }
   ],
   "source": [
    "dic"
   ]
  },
  {
   "cell_type": "code",
   "execution_count": 33,
   "metadata": {
    "collapsed": true
   },
   "outputs": [],
   "source": [
    "loan_data[\"hardship_type\"].fillna(0,inplace=True)"
   ]
  },
  {
   "cell_type": "code",
   "execution_count": 34,
   "metadata": {
    "collapsed": true
   },
   "outputs": [],
   "source": [
    "for idx, i in loan_data[\"hardship_type\"].iteritems():\n",
    "    if i == \"INTEREST ONLY-3 MONTHS DEFERRAL\":\n",
    "        loan_data.at[idx,\"hardship_type\"] = 1"
   ]
  },
  {
   "cell_type": "markdown",
   "metadata": {},
   "source": [
    "# hardship_reason adjustment"
   ]
  },
  {
   "cell_type": "code",
   "execution_count": 35,
   "metadata": {},
   "outputs": [
    {
     "name": "stdout",
     "output_type": "stream",
     "text": [
      "number of category:  10\n"
     ]
    }
   ],
   "source": [
    "dic={}\n",
    "for i in loan_data[\"hardship_reason\"]:\n",
    "    if i in dic:\n",
    "        dic[i]+=1\n",
    "    else:\n",
    "        dic[i]=1\n",
    "print(\"number of category: \", len(dic))"
   ]
  },
  {
   "cell_type": "code",
   "execution_count": 36,
   "metadata": {},
   "outputs": [
    {
     "data": {
      "text/plain": [
       "{'DISABILITY': 49,\n",
       " 'DIVORCE': 82,\n",
       " 'EXCESSIVE_OBLIGATIONS': 668,\n",
       " 'FAMILY_DEATH': 70,\n",
       " 'INCOME_CURTAILMENT': 424,\n",
       " 'MEDICAL': 413,\n",
       " 'NATURAL_DISASTER': 579,\n",
       " 'REDUCED_HOURS': 219,\n",
       " 'UNEMPLOYMENT': 617,\n",
       " nan: 888702}"
      ]
     },
     "execution_count": 36,
     "metadata": {},
     "output_type": "execute_result"
    }
   ],
   "source": [
    "dic"
   ]
  },
  {
   "cell_type": "code",
   "execution_count": 37,
   "metadata": {
    "collapsed": true
   },
   "outputs": [],
   "source": [
    "loan_data[\"hardship_reason\"].fillna(0, inplace=True)"
   ]
  },
  {
   "cell_type": "code",
   "execution_count": 38,
   "metadata": {
    "collapsed": true
   },
   "outputs": [],
   "source": [
    "for idx, i in loan_data[\"hardship_reason\"].iteritems():\n",
    "    if i == \"INCOME_CURTAILMENT\":\n",
    "        loan_data.at[idx, \"hardship_reason\"] = 1\n",
    "    elif i == \"MEDICAL\":\n",
    "        loan_data.at[idx, \"hardship_reason\"] = 2\n",
    "    elif i == \"NATURAL_DISASTER\":\n",
    "        loan_data.at[idx, \"hardship_reason\"] = 3\n",
    "    elif i == \"UNEMPLOYMENT\":\n",
    "        loan_data.at[idx, \"hardship_reason\"] = 4\n",
    "    elif i == \"EXCESSIVE_OBLIGATIONS\":\n",
    "        loan_data.at[idx, \"hardship_reason\"] = 5\n",
    "    elif i == \"FAMILY_DEATH\":\n",
    "        loan_data.at[idx, \"hardship_reason\"] = 6\n",
    "    elif i == \"REDUCED_HOURS\":\n",
    "        loan_data.at[idx, \"hardship_reason\"] = 7\n",
    "    elif i == \"DISABILITY\":\n",
    "        loan_data.at[idx, \"hardship_reason\"] = 8\n",
    "    elif i == \"DIVORCE\":\n",
    "        loan_data.at[idx, \"hardship_reason\"] = 9"
   ]
  },
  {
   "cell_type": "markdown",
   "metadata": {},
   "source": [
    "# hardship_status adjustment"
   ]
  },
  {
   "cell_type": "code",
   "execution_count": 39,
   "metadata": {},
   "outputs": [
    {
     "name": "stdout",
     "output_type": "stream",
     "text": [
      "number of category:  4\n"
     ]
    }
   ],
   "source": [
    "dic={}\n",
    "for i in loan_data[\"hardship_status\"]:\n",
    "    if i in dic:\n",
    "        dic[i]+=1\n",
    "    else:\n",
    "        dic[i]=1\n",
    "print(\"number of category: \", len(dic))"
   ]
  },
  {
   "cell_type": "code",
   "execution_count": 40,
   "metadata": {},
   "outputs": [
    {
     "data": {
      "text/plain": [
       "{'ACTIVE': 907, 'BROKEN': 1019, 'COMPLETED': 1195, nan: 888702}"
      ]
     },
     "execution_count": 40,
     "metadata": {},
     "output_type": "execute_result"
    }
   ],
   "source": [
    "dic"
   ]
  },
  {
   "cell_type": "code",
   "execution_count": 41,
   "metadata": {
    "collapsed": true
   },
   "outputs": [],
   "source": [
    "loan_data[\"hardship_status\"].fillna(0,inplace=True)"
   ]
  },
  {
   "cell_type": "code",
   "execution_count": 42,
   "metadata": {
    "collapsed": true
   },
   "outputs": [],
   "source": [
    "for idx, i in loan_data[\"hardship_status\"].iteritems():\n",
    "    if i == \"COMPLETED\":\n",
    "        loan_data.at[idx, \"hardship_status\"] = 1\n",
    "    elif i == \"BROKEN\":\n",
    "        loan_data.at[idx, \"hardship_status\"] = 2\n",
    "    elif i == \"ACTIVE\":\n",
    "        loan_data.at[idx, \"hardship_status\"] = 3"
   ]
  },
  {
   "cell_type": "markdown",
   "metadata": {},
   "source": [
    "# hardship_loan_status adjustment"
   ]
  },
  {
   "cell_type": "code",
   "execution_count": 43,
   "metadata": {},
   "outputs": [
    {
     "name": "stdout",
     "output_type": "stream",
     "text": [
      "number of category:  6\n"
     ]
    }
   ],
   "source": [
    "dic={}\n",
    "for i in loan_data[\"hardship_loan_status\"]:\n",
    "    if i in dic:\n",
    "        dic[i]+=1\n",
    "    else:\n",
    "        dic[i]=1\n",
    "print(\"number of category: \", len(dic))"
   ]
  },
  {
   "cell_type": "code",
   "execution_count": 44,
   "metadata": {},
   "outputs": [
    {
     "data": {
      "text/plain": [
       "{'Current': 499,\n",
       " 'In Grace Period': 871,\n",
       " 'Issued': 1,\n",
       " 'Late (16-30 days)': 1603,\n",
       " 'Late (31-120 days)': 147,\n",
       " nan: 888702}"
      ]
     },
     "execution_count": 44,
     "metadata": {},
     "output_type": "execute_result"
    }
   ],
   "source": [
    "dic"
   ]
  },
  {
   "cell_type": "code",
   "execution_count": 45,
   "metadata": {
    "collapsed": true
   },
   "outputs": [],
   "source": [
    "for idx, i in loan_data[\"hardship_loan_status\"].iteritems():\n",
    "    if i == \"Late (31-120 days)\":\n",
    "        loan_data.at[idx, \"hardship_loan_status\"] = 1\n",
    "    elif i == \"Current\":\n",
    "        loan_data.at[idx, \"hardship_loan_status\"] = 2\n",
    "    elif i == \"Late (16-30 days)\":\n",
    "        loan_data.at[idx, \"hardship_loan_status\"] = 3\n",
    "    elif i == \"In Grace Period\":\n",
    "        loan_data.at[idx, \"hardship_loan_status\"] = 4\n",
    "    elif i == \"Issued\":\n",
    "        loan_data.at[idx, \"hardship_loan_status\"] = 5\n"
   ]
  },
  {
   "cell_type": "code",
   "execution_count": 46,
   "metadata": {
    "collapsed": true
   },
   "outputs": [],
   "source": [
    "loan_data[\"hardship_loan_status\"].fillna(0,inplace=True)"
   ]
  },
  {
   "cell_type": "markdown",
   "metadata": {},
   "source": [
    "# settlement_status adjustment"
   ]
  },
  {
   "cell_type": "code",
   "execution_count": 47,
   "metadata": {},
   "outputs": [
    {
     "name": "stdout",
     "output_type": "stream",
     "text": [
      "number of category:  4\n"
     ]
    }
   ],
   "source": [
    "dic={}\n",
    "for i in loan_data[\"settlement_status\"]:\n",
    "    if i in dic:\n",
    "        dic[i]+=1\n",
    "    else:\n",
    "        dic[i]=1\n",
    "print(\"number of category: \", len(dic))"
   ]
  },
  {
   "cell_type": "code",
   "execution_count": 48,
   "metadata": {},
   "outputs": [
    {
     "data": {
      "text/plain": [
       "{'ACTIVE': 8647, 'BROKEN': 1164, 'COMPLETE': 4937, nan: 877075}"
      ]
     },
     "execution_count": 48,
     "metadata": {},
     "output_type": "execute_result"
    }
   ],
   "source": [
    "dic"
   ]
  },
  {
   "cell_type": "code",
   "execution_count": 49,
   "metadata": {
    "collapsed": true
   },
   "outputs": [],
   "source": [
    "loan_data[\"settlement_status\"].fillna(0,inplace=True)"
   ]
  },
  {
   "cell_type": "code",
   "execution_count": 50,
   "metadata": {
    "collapsed": true
   },
   "outputs": [],
   "source": [
    "for idx, i in loan_data[\"settlement_status\"].iteritems():\n",
    "    if i == \"COMPLETE\":\n",
    "        loan_data.at[idx, \"settlement_status\"] = 1\n",
    "    elif i == \"BROKEN\":\n",
    "        loan_data.at[idx, \"settlement_status\"] = 2\n",
    "    elif i == \"ACTIVE\":\n",
    "        loan_data.at[idx, \"settlement_status\"] = 3"
   ]
  },
  {
   "cell_type": "markdown",
   "metadata": {},
   "source": [
    "# _disbursement_method adjustment"
   ]
  },
  {
   "cell_type": "code",
   "execution_count": 51,
   "metadata": {},
   "outputs": [
    {
     "name": "stdout",
     "output_type": "stream",
     "text": [
      "number of category:  2\n"
     ]
    }
   ],
   "source": [
    "dic={}\n",
    "for i in loan_data[\"disbursement_method\"]:\n",
    "    if i in dic:\n",
    "        dic[i]+=1\n",
    "    else:\n",
    "        dic[i]=1\n",
    "print (\"number of category: \", len(dic))"
   ]
  },
  {
   "cell_type": "code",
   "execution_count": 52,
   "metadata": {},
   "outputs": [
    {
     "data": {
      "text/plain": [
       "{'Cash': 890420, 'DirectPay': 1403}"
      ]
     },
     "execution_count": 52,
     "metadata": {},
     "output_type": "execute_result"
    }
   ],
   "source": [
    "dic"
   ]
  },
  {
   "cell_type": "code",
   "execution_count": 53,
   "metadata": {
    "collapsed": true
   },
   "outputs": [],
   "source": [
    "loan_data[\"disbursement_method\"].fillna(0,inplace=True)"
   ]
  },
  {
   "cell_type": "code",
   "execution_count": 54,
   "metadata": {
    "collapsed": true
   },
   "outputs": [],
   "source": [
    "for idx, i in loan_data[\"disbursement_method\"].iteritems():\n",
    "    if i == \"Cash\":\n",
    "        loan_data.at[idx,\"disbursement_method\"] = 1\n",
    "    elif i == \"DirectPay\":\n",
    "        loan_data.at[idx,\"disbursement_method\"] = 2\n"
   ]
  },
  {
   "cell_type": "markdown",
   "metadata": {},
   "source": [
    "# home_ownership - adjustment"
   ]
  },
  {
   "cell_type": "code",
   "execution_count": 55,
   "metadata": {},
   "outputs": [
    {
     "name": "stdout",
     "output_type": "stream",
     "text": [
      "number of category:  6\n"
     ]
    }
   ],
   "source": [
    "dic={}\n",
    "for i in loan_data[\"home_ownership\"]:\n",
    "    if i in dic:\n",
    "        dic[i]+=1\n",
    "    else:\n",
    "        dic[i]=1\n",
    "print (\"number of category: \", len(dic))"
   ]
  },
  {
   "cell_type": "code",
   "execution_count": 56,
   "metadata": {},
   "outputs": [
    {
     "data": {
      "text/plain": [
       "{'ANY': 120,\n",
       " 'MORTGAGE': 442575,\n",
       " 'NONE': 51,\n",
       " 'OTHER': 182,\n",
       " 'OWN': 91478,\n",
       " 'RENT': 357417}"
      ]
     },
     "execution_count": 56,
     "metadata": {},
     "output_type": "execute_result"
    }
   ],
   "source": [
    "dic"
   ]
  },
  {
   "cell_type": "code",
   "execution_count": 57,
   "metadata": {
    "collapsed": true
   },
   "outputs": [],
   "source": [
    "loan_data[\"home_ownership\"].fillna(0,inplace=True)"
   ]
  },
  {
   "cell_type": "code",
   "execution_count": 58,
   "metadata": {
    "collapsed": true
   },
   "outputs": [],
   "source": [
    "for idx, i in loan_data[\"home_ownership\"].iteritems():\n",
    "    if i == \"RENT\":\n",
    "        loan_data.at[idx, \"home_ownership\"] = 1\n",
    "    elif i == \"OWN\":\n",
    "        loan_data.at[idx, \"home_ownership\"] = 2\n",
    "    elif i == \"MORTGAGE\":\n",
    "        loan_data.at[idx, \"home_ownership\"] = 3\n",
    "    elif i == \"OTHER\":\n",
    "        loan_data.at[idx, \"home_ownership\"] = 4\n",
    "    elif i == \"OWN\":\n",
    "        loan_data.at[idx, \"home_ownership\"] = 5\n",
    "    elif i == \"NONE\":\n",
    "        loan_data.at[idx, \"home_ownership\"] = 6\n",
    "    elif i == \"ANY\":\n",
    "        loan_data.at[idx, \"home_ownership\"] = 7"
   ]
  },
  {
   "cell_type": "markdown",
   "metadata": {},
   "source": [
    "# pymnt_plan adjustment"
   ]
  },
  {
   "cell_type": "code",
   "execution_count": 59,
   "metadata": {},
   "outputs": [
    {
     "name": "stdout",
     "output_type": "stream",
     "text": [
      "number of category:  2\n"
     ]
    }
   ],
   "source": [
    "dic={}\n",
    "for i in loan_data[\"pymnt_plan\"]:\n",
    "    if i in dic:\n",
    "        dic[i]+=1\n",
    "    else:\n",
    "        dic[i]=1\n",
    "print (\"number of category: \", len(dic))"
   ]
  },
  {
   "cell_type": "code",
   "execution_count": 60,
   "metadata": {},
   "outputs": [
    {
     "data": {
      "text/plain": [
       "{'n': 891146, 'y': 677}"
      ]
     },
     "execution_count": 60,
     "metadata": {},
     "output_type": "execute_result"
    }
   ],
   "source": [
    "dic"
   ]
  },
  {
   "cell_type": "code",
   "execution_count": 61,
   "metadata": {
    "collapsed": true
   },
   "outputs": [],
   "source": [
    "loan_data[\"pymnt_plan\"].fillna(0,inplace=True)"
   ]
  },
  {
   "cell_type": "code",
   "execution_count": 62,
   "metadata": {
    "collapsed": true
   },
   "outputs": [],
   "source": [
    "for idx, i in loan_data[\"pymnt_plan\"].iteritems():\n",
    "    if i == \"y\":\n",
    "        loan_data.at[idx, \"pymnt_plan\"] = 1\n",
    "    elif i == \"n\":\n",
    "        loan_data.at[idx, \"pymnt_plan\"] = 2"
   ]
  },
  {
   "cell_type": "markdown",
   "metadata": {},
   "source": [
    "# debt_settlement_flag adjustment"
   ]
  },
  {
   "cell_type": "code",
   "execution_count": 63,
   "metadata": {},
   "outputs": [
    {
     "name": "stdout",
     "output_type": "stream",
     "text": [
      "number of category:  2\n"
     ]
    }
   ],
   "source": [
    "dic={}\n",
    "for i in loan_data[\"debt_settlement_flag\"]:\n",
    "    if i in dic:\n",
    "        dic[i]+=1\n",
    "    else:\n",
    "        dic[i]=1\n",
    "print (\"number of category: \", len(dic))"
   ]
  },
  {
   "cell_type": "code",
   "execution_count": 64,
   "metadata": {},
   "outputs": [
    {
     "data": {
      "text/plain": [
       "{'N': 877075, 'Y': 14748}"
      ]
     },
     "execution_count": 64,
     "metadata": {},
     "output_type": "execute_result"
    }
   ],
   "source": [
    "dic"
   ]
  },
  {
   "cell_type": "code",
   "execution_count": 65,
   "metadata": {
    "collapsed": true
   },
   "outputs": [],
   "source": [
    "loan_data[\"debt_settlement_flag\"].fillna(0,inplace=True)"
   ]
  },
  {
   "cell_type": "code",
   "execution_count": 66,
   "metadata": {
    "collapsed": true
   },
   "outputs": [],
   "source": [
    "for idx, i in loan_data[\"debt_settlement_flag\"].iteritems():\n",
    "    if i == \"Y\":\n",
    "        loan_data.at[idx, \"debt_settlement_flag\"] = 1\n",
    "    elif i == \"N\":\n",
    "        loan_data.at[idx, \"debt_settlement_flag\"] = 2"
   ]
  },
  {
   "cell_type": "markdown",
   "metadata": {},
   "source": [
    "# title - passed"
   ]
  },
  {
   "cell_type": "code",
   "execution_count": 67,
   "metadata": {},
   "outputs": [
    {
     "name": "stdout",
     "output_type": "stream",
     "text": [
      "number of category:  61959\n"
     ]
    }
   ],
   "source": [
    "dic={}\n",
    "for i in loan_data[\"title\"]:\n",
    "    if i in dic:\n",
    "        dic[i]+=1\n",
    "    else:\n",
    "        dic[i]=1\n",
    "print (\"number of category: \", len(dic))"
   ]
  },
  {
   "cell_type": "markdown",
   "metadata": {},
   "source": [
    "# initial_list_status adjustment"
   ]
  },
  {
   "cell_type": "code",
   "execution_count": 68,
   "metadata": {},
   "outputs": [
    {
     "name": "stdout",
     "output_type": "stream",
     "text": [
      "number of category:  2\n"
     ]
    }
   ],
   "source": [
    "dic={}\n",
    "for i in loan_data[\"initial_list_status\"]:\n",
    "    if i in dic:\n",
    "        dic[i]+=1\n",
    "    else:\n",
    "        dic[i]=1\n",
    "print (\"number of category: \", len(dic))"
   ]
  },
  {
   "cell_type": "code",
   "execution_count": 69,
   "metadata": {},
   "outputs": [
    {
     "data": {
      "text/plain": [
       "{'f': 440823, 'w': 451000}"
      ]
     },
     "execution_count": 69,
     "metadata": {},
     "output_type": "execute_result"
    }
   ],
   "source": [
    "dic"
   ]
  },
  {
   "cell_type": "code",
   "execution_count": 70,
   "metadata": {
    "collapsed": true
   },
   "outputs": [],
   "source": [
    "loan_data[\"initial_list_status\"].fillna(0,inplace=True)"
   ]
  },
  {
   "cell_type": "code",
   "execution_count": 71,
   "metadata": {
    "collapsed": true
   },
   "outputs": [],
   "source": [
    "for idx, i in loan_data[\"initial_list_status\"].iteritems():\n",
    "    if i == \"f\":\n",
    "        loan_data.at[idx, \"initial_list_status\"] = 1\n",
    "    elif i == \"w\":\n",
    "        loan_data.at[idx, \"initial_list_status\"] = 2"
   ]
  },
  {
   "cell_type": "markdown",
   "metadata": {},
   "source": [
    "# loan_status adjustment"
   ]
  },
  {
   "cell_type": "code",
   "execution_count": 72,
   "metadata": {},
   "outputs": [
    {
     "name": "stdout",
     "output_type": "stream",
     "text": [
      "number of category:  8\n"
     ]
    }
   ],
   "source": [
    "dic={}\n",
    "for i in loan_data[\"loan_status\"]:\n",
    "    if i in dic:\n",
    "        dic[i]+=1\n",
    "    else:\n",
    "        dic[i]=1\n",
    "print (\"number of category: \", len(dic))"
   ]
  },
  {
   "cell_type": "code",
   "execution_count": 73,
   "metadata": {},
   "outputs": [
    {
     "data": {
      "text/plain": [
       "{'Charged Off': 175085,\n",
       " 'Default': 119,\n",
       " 'Does not meet the credit policy. Status:Charged Off': 761,\n",
       " 'Does not meet the credit policy. Status:Fully Paid': 1988,\n",
       " 'Fully Paid': 673688,\n",
       " 'In Grace Period': 12125,\n",
       " 'Late (16-30 days)': 5605,\n",
       " 'Late (31-120 days)': 22452}"
      ]
     },
     "execution_count": 73,
     "metadata": {},
     "output_type": "execute_result"
    }
   ],
   "source": [
    "dic"
   ]
  },
  {
   "cell_type": "code",
   "execution_count": 74,
   "metadata": {
    "collapsed": true
   },
   "outputs": [],
   "source": [
    "loan_data[\"loan_status\"].fillna(0,inplace=True)"
   ]
  },
  {
   "cell_type": "code",
   "execution_count": 75,
   "metadata": {
    "collapsed": true
   },
   "outputs": [],
   "source": [
    "for idx, i in loan_data[\"loan_status\"].iteritems():\n",
    "    if i == \"Fully Paid\":\n",
    "        loan_data.at[idx, \"loan_status\"] = 1\n",
    "    elif i == \"Does not meet the credit policy. Status:Fully Paid\":\n",
    "        loan_data.at[idx, \"loan_status\"] = 2\n",
    "    elif i == \"Does not meet the credit policy. Status:Charged Off\":\n",
    "        loan_data.at[idx, \"loan_status\"] = 3\n",
    "    elif i == \"In Grace Period\":\n",
    "        loan_data.at[idx, \"loan_status\"] = 4\n",
    "    elif i == \"Late (16-30 days)\":\n",
    "        loan_data.at[idx, \"loan_status\"] = 5\n",
    "    elif i == \"Late (31-120 days)\":\n",
    "        loan_data.at[idx, \"loan_status\"] = 6\n",
    "    elif i == \"Default\":\n",
    "        loan_data.at[idx, \"loan_status\"] = 7\n",
    "    elif i == \"Charged Off\":\n",
    "        loan_data.at[idx, \"loan_status\"] = 8\n",
    "    elif i == \"Current\":\n",
    "        loan_data.at[idx, \"loan_status\"] = 9\n"
   ]
  },
  {
   "cell_type": "markdown",
   "metadata": {},
   "source": [
    "# verification_status adjustment"
   ]
  },
  {
   "cell_type": "code",
   "execution_count": 76,
   "metadata": {},
   "outputs": [
    {
     "name": "stdout",
     "output_type": "stream",
     "text": [
      "number of category:  3\n"
     ]
    }
   ],
   "source": [
    "dic={}\n",
    "for i in loan_data[\"verification_status\"]:\n",
    "    if i in dic:\n",
    "        dic[i]+=1\n",
    "    else:\n",
    "        dic[i]=1\n",
    "print (\"number of category: \", len(dic))"
   ]
  },
  {
   "cell_type": "code",
   "execution_count": 77,
   "metadata": {},
   "outputs": [
    {
     "data": {
      "text/plain": [
       "{'Not Verified': 272203, 'Source Verified': 324807, 'Verified': 294813}"
      ]
     },
     "execution_count": 77,
     "metadata": {},
     "output_type": "execute_result"
    }
   ],
   "source": [
    "dic"
   ]
  },
  {
   "cell_type": "code",
   "execution_count": 78,
   "metadata": {
    "collapsed": true
   },
   "outputs": [],
   "source": [
    "loan_data[\"verification_status\"].fillna(0,inplace=True)"
   ]
  },
  {
   "cell_type": "code",
   "execution_count": 79,
   "metadata": {
    "collapsed": true
   },
   "outputs": [],
   "source": [
    "for idx, i in loan_data[\"verification_status\"].iteritems():\n",
    "    if i == \"Verified\":\n",
    "        loan_data.at[idx, \"verification_status\"] = 1\n",
    "    elif i == \"Source Verified\":\n",
    "        loan_data.at[idx, \"verification_status\"] = 2\n",
    "    elif i == \"Not Verified\":\n",
    "        loan_data.at[idx, \"verification_status\"] = 3"
   ]
  },
  {
   "cell_type": "markdown",
   "metadata": {},
   "source": [
    "# term adjustment"
   ]
  },
  {
   "cell_type": "code",
   "execution_count": 80,
   "metadata": {},
   "outputs": [
    {
     "name": "stdout",
     "output_type": "stream",
     "text": [
      "number of category:  2\n"
     ]
    }
   ],
   "source": [
    "dic={}\n",
    "for i in loan_data[\"term\"]:\n",
    "    if i in dic:\n",
    "        dic[i]+=1\n",
    "    else:\n",
    "        dic[i]=1\n",
    "print (\"number of category: \", len(dic))"
   ]
  },
  {
   "cell_type": "code",
   "execution_count": 81,
   "metadata": {},
   "outputs": [
    {
     "data": {
      "text/plain": [
       "{' 36 months': 671541, ' 60 months': 220282}"
      ]
     },
     "execution_count": 81,
     "metadata": {},
     "output_type": "execute_result"
    }
   ],
   "source": [
    "dic"
   ]
  },
  {
   "cell_type": "code",
   "execution_count": 82,
   "metadata": {
    "collapsed": true
   },
   "outputs": [],
   "source": [
    "loan_data[\"term\"].fillna(0,inplace=True)"
   ]
  },
  {
   "cell_type": "code",
   "execution_count": 83,
   "metadata": {
    "collapsed": true
   },
   "outputs": [],
   "source": [
    "for idx, i in loan_data[\"term\"].iteritems():\n",
    "    if i == \" 36 months\":\n",
    "        loan_data.at[idx, \"term\"] = 1\n",
    "    elif i == \" 60 months\":\n",
    "        loan_data.at[idx, \"term\"] = 2"
   ]
  },
  {
   "cell_type": "code",
   "execution_count": 84,
   "metadata": {
    "collapsed": true
   },
   "outputs": [],
   "source": [
    "loan_data.to_csv(\"loan_data_no_current_converted.csv\", index = False, index_label=False)"
   ]
  },
  {
   "cell_type": "code",
   "execution_count": 85,
   "metadata": {},
   "outputs": [
    {
     "name": "stdout",
     "output_type": "stream",
     "text": [
      "Connexin Practicum_Week2 Report.pptx\r\n",
      "Connexin Practicum_Week3.pptx\r\n",
      "Decision_Tree_loan_data.ipynb\r\n",
      "PCA_example.ipynb\r\n",
      "Reasons for delete.docx\r\n",
      "Replace_string_data_to_categorical.ipynb\r\n",
      "correlation data.xlsx\r\n",
      "correlation.ipynb\r\n",
      "loan_data_current_converted.csv\r\n",
      "loan_data_no_current_converted.csv\r\n",
      "normalize_income_zipcode.ipynb\r\n",
      "pct for some missing data (4).ipynb\r\n",
      "report_YufeiGao(1).docx\r\n"
     ]
    }
   ],
   "source": [
    "!ls"
   ]
  },
  {
   "cell_type": "code",
   "execution_count": null,
   "metadata": {
    "collapsed": true
   },
   "outputs": [],
   "source": []
  }
 ],
 "metadata": {
  "kernelspec": {
   "display_name": "Python 2",
   "language": "python",
   "name": "python2"
  },
  "language_info": {
   "codemirror_mode": {
    "name": "ipython",
    "version": 2
   },
   "file_extension": ".py",
   "mimetype": "text/x-python",
   "name": "python",
   "nbconvert_exporter": "python",
   "pygments_lexer": "ipython2",
   "version": "2.7.14"
  }
 },
 "nbformat": 4,
 "nbformat_minor": 2
}
