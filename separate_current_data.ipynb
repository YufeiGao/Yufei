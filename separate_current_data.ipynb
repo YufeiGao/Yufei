{
 "cells": [
  {
   "cell_type": "markdown",
   "metadata": {},
   "source": [
    "# Seperate loan_status =  \"Current\" and output two seperated csv file"
   ]
  },
  {
   "cell_type": "code",
   "execution_count": 4,
   "metadata": {
    "collapsed": true
   },
   "outputs": [],
   "source": [
    "%matplotlib inline\n",
    "import os\n",
    "import pandas as pd\n",
    "from matplotlib import pyplot as plt\n",
    "import numpy as np\n",
    "import math\n",
    "import seaborn as sns\n",
    "#from termcolor import colored\n",
    "from numbers import Number\n",
    "from scipy import stats\n",
    "from pandas import plotting"
   ]
  },
  {
   "cell_type": "code",
   "execution_count": 8,
   "metadata": {
    "collapsed": false
   },
   "outputs": [
    {
     "data": {
      "text/plain": [
       "'\\ndef process_frame(df):\\n        # process data frame\\n        return len(df)\\n\\nif __name__ == \\'__main__\\':\\n        reader = pd.read_table(LARGE_FILE, chunksize=CHUNKSIZE)\\n\\n        result = 0\\n        for df in reader:\\n                # process each data frame\\n                result += process_frame(df)\\n\\n        print(\"There are %d rows of data\"%(result))\\n'"
      ]
     },
     "execution_count": 8,
     "metadata": {},
     "output_type": "execute_result"
    }
   ],
   "source": [
    "LARGE_FILE = \"loan_data/loan_data_complete.csv\"\n",
    "CHUNKSIZE = 100000 # processing 100,000 rows at a time\n",
    "'''\n",
    "def process_frame(df):\n",
    "        # process data frame\n",
    "        return len(df)\n",
    "\n",
    "if __name__ == '__main__':\n",
    "        reader = pd.read_table(LARGE_FILE, chunksize=CHUNKSIZE)\n",
    "\n",
    "        result = 0\n",
    "        for df in reader:\n",
    "                # process each data frame\n",
    "                result += process_frame(df)\n",
    "\n",
    "        print(\"There are %d rows of data\"%(result))\n",
    "'''"
   ]
  },
  {
   "cell_type": "code",
   "execution_count": 9,
   "metadata": {
    "collapsed": true
   },
   "outputs": [],
   "source": [
    "reader = pd.read_csv(LARGE_FILE, chunksize=CHUNKSIZE, low_memory=False)\n",
    "loan_data = pd.DataFrame()\n",
    "frames = []"
   ]
  },
  {
   "cell_type": "code",
   "execution_count": 10,
   "metadata": {
    "collapsed": true
   },
   "outputs": [],
   "source": [
    "# Select data without current Status\n",
    "for df in reader:\n",
    "    frames.append(df[df[\"loan_status\"] != \"Current\"])\n",
    "loan_data = pd.concat(frames)\n",
    "    "
   ]
  },
  {
   "cell_type": "code",
   "execution_count": 11,
   "metadata": {
    "collapsed": true
   },
   "outputs": [],
   "source": [
    "loan_data.to_csv(\"loan_data_seperate_current.csv\", sep=',')\n"
   ]
  },
  {
   "cell_type": "markdown",
   "metadata": {
    "collapsed": true
   },
   "source": [
    "# Check If the total number of data points add up!"
   ]
  },
  {
   "cell_type": "code",
   "execution_count": 13,
   "metadata": {
    "collapsed": true
   },
   "outputs": [],
   "source": [
    "data_with_out_currents = len(loan_data)"
   ]
  },
  {
   "cell_type": "markdown",
   "metadata": {},
   "source": [
    "I ran the same code again, and find the data points with only current, and see if those numbers add up! It Suppose to add up to 1646801 check on data_processing.ipynb"
   ]
  },
  {
   "cell_type": "code",
   "execution_count": 17,
   "metadata": {
    "collapsed": true
   },
   "outputs": [],
   "source": [
    "reader = pd.read_csv(LARGE_FILE, chunksize=CHUNKSIZE, low_memory=False)\n",
    "loan_data_current = pd.DataFrame()\n",
    "frames_current = []"
   ]
  },
  {
   "cell_type": "code",
   "execution_count": 18,
   "metadata": {
    "collapsed": true
   },
   "outputs": [],
   "source": [
    "# only select data with current loan_status\n",
    "for df in reader:\n",
    "    frames_current.append(df[df[\"loan_status\"] == \"Current\"])\n",
    "loan_data_current = pd.concat(frames_current)\n",
    "    "
   ]
  },
  {
   "cell_type": "code",
   "execution_count": 20,
   "metadata": {
    "collapsed": true
   },
   "outputs": [],
   "source": [
    "loan_data_current.to_csv(\"loan_data_current.csv\", sep=',')\n"
   ]
  },
  {
   "cell_type": "code",
   "execution_count": 25,
   "metadata": {
    "collapsed": true
   },
   "outputs": [],
   "source": [
    "data_with_current = len(loan_data_current) "
   ]
  },
  {
   "cell_type": "code",
   "execution_count": 29,
   "metadata": {
    "collapsed": false
   },
   "outputs": [
    {
     "name": "stdout",
     "output_type": "stream",
     "text": [
      "Total Number of data is:  1646801\n",
      "It suppose to have 1646801 amount of data points\n",
      "True\n"
     ]
    }
   ],
   "source": [
    "print(\"Total Number of data is: \" ,(data_with_current + data_with_out_currents))\n",
    "print(\"It suppose to have 1646801 amount of data points\")\n",
    "print((data_with_current + data_with_out_currents) == 1646801)"
   ]
  },
  {
   "cell_type": "code",
   "execution_count": null,
   "metadata": {
    "collapsed": true
   },
   "outputs": [],
   "source": []
  }
 ],
 "metadata": {
  "kernelspec": {
   "display_name": "Python 2",
   "language": "python",
   "name": "python2"
  },
  "language_info": {
   "codemirror_mode": {
    "name": "ipython",
    "version": 2
   },
   "file_extension": ".py",
   "mimetype": "text/x-python",
   "name": "python",
   "nbconvert_exporter": "python",
   "pygments_lexer": "ipython2",
   "version": "2.7.13"
  }
 },
 "nbformat": 4,
 "nbformat_minor": 2
}
